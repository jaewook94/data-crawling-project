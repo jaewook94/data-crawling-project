{
 "cells": [
  {
   "cell_type": "code",
   "execution_count": 18,
   "id": "039ead44",
   "metadata": {},
   "outputs": [],
   "source": [
    "import urllib\n",
    "import urllib.request\n",
    "from urllib.request import urlopen\n",
    "import selenium \n",
    "from selenium import webdriver\n",
    "import bs4\n",
    "from bs4 import BeautifulSoup\n",
    "import time\n",
    "from datetime import datetime\n",
    "import pandas as pd\n",
    "import os\n",
    "from datetime import datetime\n",
    "#새로 추가 Action Chains \n",
    "from selenium.webdriver.common.action_chains import ActionChains\n",
    "import html.parser\n",
    "from html.parser import HTMLParser"
   ]
  },
  {
   "cell_type": "code",
   "execution_count": 2,
   "id": "6e45de9c",
   "metadata": {},
   "outputs": [],
   "source": [
    "link = 'https://www.google.com/maps/place/%EC%8A%A4%ED%83%80%EB%B2%85%EC%8A%A4+%EB%8D%94%EC%A2%85%EB%A1%9CR%EC%A0%90/@37.537104,126.7809418,11z/data=!4m11!1m2!2m1!1z7ISc7Jq4IOyKpO2DgOuyheyKpA!3m7!1s0x357ca2e91d47728f:0x7a8a48d7f1a3e119!8m2!3d37.5707075!4d126.9835766!9m1!1b1!15sChPshJzsmrgg7Iqk7YOA67KF7IqkIgOIAQFaFiIU7ISc7Jq4IOyKpO2DgCDrsoXsiqSSAQtjb2ZmZWVfc2hvcA?hl=ko'\n",
    "path = r'C:\\Users\\재욱\\Downloads\\chromedriver.exe'\n",
    "driver = webdriver.Chrome(path)\n",
    "driver.get(link)                 \n",
    "os.makedirs('result', exist_ok = True)   "
   ]
  },
  {
   "cell_type": "code",
   "execution_count": 16,
   "id": "2d5f2157",
   "metadata": {},
   "outputs": [
    {
     "ename": "KeyboardInterrupt",
     "evalue": "",
     "output_type": "error",
     "traceback": [
      "\u001b[1;31m---------------------------------------------------------------------------\u001b[0m",
      "\u001b[1;31mKeyboardInterrupt\u001b[0m                         Traceback (most recent call last)",
      "\u001b[1;32m<ipython-input-16-477bf3248363>\u001b[0m in \u001b[0;36m<module>\u001b[1;34m\u001b[0m\n\u001b[0;32m      6\u001b[0m \u001b[1;32mwhile\u001b[0m \u001b[1;32mTrue\u001b[0m\u001b[1;33m:\u001b[0m\u001b[1;33m\u001b[0m\u001b[1;33m\u001b[0m\u001b[0m\n\u001b[0;32m      7\u001b[0m     \u001b[0mdriver\u001b[0m\u001b[1;33m.\u001b[0m\u001b[0mexecute_script\u001b[0m\u001b[1;33m(\u001b[0m\u001b[1;34m'arguments[0].scrollTop = arguments[0].scrollHeight'\u001b[0m\u001b[1;33m,\u001b[0m \u001b[0mscrollable_div\u001b[0m\u001b[1;33m)\u001b[0m\u001b[1;33m\u001b[0m\u001b[1;33m\u001b[0m\u001b[0m\n\u001b[1;32m----> 8\u001b[1;33m     \u001b[0mtime\u001b[0m\u001b[1;33m.\u001b[0m\u001b[0msleep\u001b[0m\u001b[1;33m(\u001b[0m\u001b[0mSCROLL_PAUSE_SEC\u001b[0m\u001b[1;33m)\u001b[0m\u001b[1;33m\u001b[0m\u001b[1;33m\u001b[0m\u001b[0m\n\u001b[0m\u001b[0;32m      9\u001b[0m \u001b[1;33m\u001b[0m\u001b[0m\n\u001b[0;32m     10\u001b[0m     \u001b[0mnew_height\u001b[0m \u001b[1;33m=\u001b[0m \u001b[0mdriver\u001b[0m\u001b[1;33m.\u001b[0m\u001b[0mexecute_script\u001b[0m\u001b[1;33m(\u001b[0m\u001b[1;34m\"return document.body.scrollHeight\"\u001b[0m\u001b[1;33m)\u001b[0m\u001b[1;33m\u001b[0m\u001b[1;33m\u001b[0m\u001b[0m\n",
      "\u001b[1;31mKeyboardInterrupt\u001b[0m: "
     ]
    }
   ],
   "source": [
    "last_height = driver.execute_script(\"return document.body.scrollHeight\")\n",
    "SCROLL_PAUSE_SEC = 2\n",
    "\n",
    "scrollable_div = driver.find_element_by_css_selector(\n",
    "    '#pane > div > div.widget-pane-content.cYB2Ge-oHo7ed > div > div > div.section-layout.section-scrollbox.cYB2Ge-oHo7ed.cYB2Ge-ti6hGc')\n",
    "while True:\n",
    "    driver.execute_script('arguments[0].scrollTop = arguments[0].scrollHeight', scrollable_div)\n",
    "    time.sleep(SCROLL_PAUSE_SEC)\n",
    "    \n",
    "    new_height = driver.execute_script(\"return document.body.scrollHeight\")\n",
    "    if new_height == last_height:\n",
    "        break"
   ]
  },
  {
   "cell_type": "code",
   "execution_count": 34,
   "id": "046cb297",
   "metadata": {
    "scrolled": true
   },
   "outputs": [
    {
     "ename": "KeyboardInterrupt",
     "evalue": "",
     "output_type": "error",
     "traceback": [
      "\u001b[1;31m---------------------------------------------------------------------------\u001b[0m",
      "\u001b[1;31mKeyboardInterrupt\u001b[0m                         Traceback (most recent call last)",
      "\u001b[1;32m<ipython-input-34-3b948efa2bd9>\u001b[0m in \u001b[0;36m<module>\u001b[1;34m\u001b[0m\n\u001b[0;32m      5\u001b[0m \u001b[1;32mwhile\u001b[0m \u001b[1;32mTrue\u001b[0m\u001b[1;33m:\u001b[0m\u001b[1;33m\u001b[0m\u001b[1;33m\u001b[0m\u001b[0m\n\u001b[0;32m      6\u001b[0m     \u001b[0mdriver\u001b[0m\u001b[1;33m.\u001b[0m\u001b[0mexecute_script\u001b[0m\u001b[1;33m(\u001b[0m\u001b[1;34m'arguments[0].scrollTop = arguments[0].scrollHeight'\u001b[0m\u001b[1;33m,\u001b[0m \u001b[0mscrollable_div\u001b[0m\u001b[1;33m)\u001b[0m\u001b[1;33m\u001b[0m\u001b[1;33m\u001b[0m\u001b[0m\n\u001b[1;32m----> 7\u001b[1;33m     \u001b[0mtime\u001b[0m\u001b[1;33m.\u001b[0m\u001b[0msleep\u001b[0m\u001b[1;33m(\u001b[0m\u001b[0mSCROLL_PAUSE_SEC\u001b[0m\u001b[1;33m)\u001b[0m\u001b[1;33m\u001b[0m\u001b[1;33m\u001b[0m\u001b[0m\n\u001b[0m",
      "\u001b[1;31mKeyboardInterrupt\u001b[0m: "
     ]
    }
   ],
   "source": [
    "SCROLL_PAUSE_SEC = 2\n",
    "\n",
    "scrollable_div = driver.find_element_by_css_selector(\n",
    "    '#pane > div > div.widget-pane-content.cYB2Ge-oHo7ed > div > div > div.section-layout.section-scrollbox.cYB2Ge-oHo7ed.cYB2Ge-ti6hGc')\n",
    "while True:\n",
    "    driver.execute_script('arguments[0].scrollTop = arguments[0].scrollHeight', scrollable_div)\n",
    "    time.sleep(SCROLL_PAUSE_SEC)"
   ]
  },
  {
   "cell_type": "code",
   "execution_count": 3,
   "id": "09f70cbb",
   "metadata": {},
   "outputs": [
    {
     "name": "stdout",
     "output_type": "stream",
     "text": [
      "there are 8 reviews avaliable!\n",
      "writing the data...\n"
     ]
    }
   ],
   "source": [
    "# 리뷰 가져오기02 : 최대 930건으로 제한이 있음\n",
    "elem = driver.find_element_by_class_name('widget-pane-content-holder')\n",
    "reviews = elem.find_elements_by_xpath('//*[@class=\"section-layout\"]//div[@class=\"ODSEW-ShBeI-content\"]')\n",
    "print('there are %d reviews avaliable!' % len(reviews))\n",
    "print('writing the data...')"
   ]
  },
  {
   "cell_type": "code",
   "execution_count": 32,
   "id": "31c74948",
   "metadata": {},
   "outputs": [
    {
     "data": {
      "text/plain": [
       "\"리저브매장답게 향좋고 맛좋은 커피들과 디저트들이 있고, 직원분들도 친절해서 좋아요^^\\n\\n어제 마셨던 '에콰도르 로자' 커피와…\""
      ]
     },
     "execution_count": 32,
     "metadata": {},
     "output_type": "execute_result"
    }
   ],
   "source": [
    "comment = soup.find('span',class_='ODSEW-ShBeI-text').text\n",
    "comment"
   ]
  },
  {
   "cell_type": "code",
   "execution_count": null,
   "id": "ae2c343d",
   "metadata": {},
   "outputs": [
    {
     "name": "stdout",
     "output_type": "stream",
     "text": [
      "there are 0 reviews avaliable!\n",
      "writing the data...\n",
      "there are 0 reviews avaliable!\n",
      "writing the data...\n",
      "there are 0 reviews avaliable!\n",
      "writing the data...\n",
      "there are 0 reviews avaliable!\n",
      "writing the data...\n",
      "there are 0 reviews avaliable!\n",
      "writing the data...\n",
      "there are 10 reviews avaliable!\n",
      "writing the data...\n"
     ]
    }
   ],
   "source": [
    "# 데이터셋 생성\n",
    "SCROLL_PAUSE_SEC = 2\n",
    "df = pd.DataFrame(columns=['name', 'ratings', 'date', 'comment'])\n",
    "scrollable_div = driver.find_element_by_css_selector(\n",
    "    '#pane > div > div.widget-pane-content.cYB2Ge-oHo7ed > div > div > div.section-layout.section-scrollbox.cYB2Ge-oHo7ed.cYB2Ge-ti6hGc')\n",
    "\n",
    "while True:\n",
    "    driver.execute_script('arguments[0].scrollTop = arguments[0].scrollHeight', scrollable_div)\n",
    "    \n",
    "    elem = driver.find_element_by_class_name('widget-pane-content-holder')\n",
    "    reviews = elem.find_elements_by_xpath('//*[@class=\"section-layout\"]//div[@class=\"ODSEW-ShBeI-content\"]')\n",
    "    print('there are %d reviews avaliable!' % len(reviews))\n",
    "    print('writing the data...')\n",
    "    # 해당 정보 데이터셋에 저장\n",
    "\n",
    "    for review in reviews:\n",
    "        soup = BeautifulSoup(review.get_attribute('innerHTML'), 'html.parser')\n",
    "\n",
    "        name = soup.find(class_= \"ODSEW-ShBeI-title\").text\n",
    "\n",
    "        ratings = int(soup.find('span', class_='ODSEW-ShBeI-H1e3jb').get('aria-label').replace('별표', '').replace('개','').strip())\n",
    "\n",
    "        date= soup.find(class_= \"ODSEW-ShBeI-RgZmSc-date\").text\n",
    "\n",
    "        comment = soup.find('span', class_='ODSEW-ShBeI-text').text\n",
    "        \n",
    "        if not comment:\n",
    "            comment = \"없음\" \n",
    "\n",
    "        df = df.append({\n",
    "            'name': name,\n",
    "            'ratings': ratings,\n",
    "            'date' : date,\n",
    "            'comment' : comment\n",
    "        }, ignore_index=True)\n",
    "        \n",
    "        time.sleep(SCROLL_PAUSE_SEC)\n"
   ]
  },
  {
   "cell_type": "code",
   "execution_count": 36,
   "id": "508e5b0d",
   "metadata": {},
   "outputs": [
    {
     "data": {
      "text/html": [
       "<div>\n",
       "<style scoped>\n",
       "    .dataframe tbody tr th:only-of-type {\n",
       "        vertical-align: middle;\n",
       "    }\n",
       "\n",
       "    .dataframe tbody tr th {\n",
       "        vertical-align: top;\n",
       "    }\n",
       "\n",
       "    .dataframe thead th {\n",
       "        text-align: right;\n",
       "    }\n",
       "</style>\n",
       "<table border=\"1\" class=\"dataframe\">\n",
       "  <thead>\n",
       "    <tr style=\"text-align: right;\">\n",
       "      <th></th>\n",
       "      <th>name</th>\n",
       "      <th>ratings</th>\n",
       "      <th>date</th>\n",
       "      <th>comment</th>\n",
       "    </tr>\n",
       "  </thead>\n",
       "  <tbody>\n",
       "    <tr>\n",
       "      <th>0</th>\n",
       "      <td>yozef Gil</td>\n",
       "      <td>5</td>\n",
       "      <td>2주 전</td>\n",
       "      <td>리저브매장답게 향좋고 맛좋은 커피들과 디저트들이 있고, 직원분들도 친절해서 좋아요^...</td>\n",
       "    </tr>\n",
       "    <tr>\n",
       "      <th>1</th>\n",
       "      <td>D.W.C Love</td>\n",
       "      <td>4</td>\n",
       "      <td>1달 전</td>\n",
       "      <td>종로타워 1,2층에 위치한 스타벅스 리져브 매장. 1층은 코로나 이후 사용을 하지 ...</td>\n",
       "    </tr>\n",
       "    <tr>\n",
       "      <th>2</th>\n",
       "      <td>Tina</td>\n",
       "      <td>5</td>\n",
       "      <td>4달 전</td>\n",
       "      <td>Pour over 과 clover 추출방식이있는 스타벅스 프리미엄 커피숍 입니다. ...</td>\n",
       "    </tr>\n",
       "    <tr>\n",
       "      <th>3</th>\n",
       "      <td>JH S</td>\n",
       "      <td>5</td>\n",
       "      <td>2주 전</td>\n",
       "      <td>위치, 시설 다 좋은데 협소해서 슬퍼요</td>\n",
       "    </tr>\n",
       "    <tr>\n",
       "      <th>4</th>\n",
       "      <td>박찬호</td>\n",
       "      <td>5</td>\n",
       "      <td>2달 전</td>\n",
       "      <td>공간이 넓은 스타벅스 Reserve 점입니다. 작품들도 볼만합니다.</td>\n",
       "    </tr>\n",
       "    <tr>\n",
       "      <th>5</th>\n",
       "      <td>최형순</td>\n",
       "      <td>5</td>\n",
       "      <td>1달 전</td>\n",
       "      <td>분위기좋습니다.굿</td>\n",
       "    </tr>\n",
       "    <tr>\n",
       "      <th>6</th>\n",
       "      <td>정민세</td>\n",
       "      <td>5</td>\n",
       "      <td>2달 전</td>\n",
       "      <td>2018.06\\n리저브 중 매우 좋다.  시원한 인테리어.  리저브 6개의 추출기구...</td>\n",
       "    </tr>\n",
       "    <tr>\n",
       "      <th>7</th>\n",
       "      <td>이동선</td>\n",
       "      <td>4</td>\n",
       "      <td>6일 전</td>\n",
       "      <td>넓고 편함. 아무도 간섭하지 않음.\\n인터넷만 좀 불편함.</td>\n",
       "    </tr>\n",
       "  </tbody>\n",
       "</table>\n",
       "</div>"
      ],
      "text/plain": [
       "           name ratings  date  \\\n",
       "0    yozef Gil        5  2주 전   \n",
       "1   D.W.C Love        4  1달 전   \n",
       "2         Tina        5  4달 전   \n",
       "3         JH S        5  2주 전   \n",
       "4          박찬호        5  2달 전   \n",
       "5          최형순        5  1달 전   \n",
       "6          정민세        5  2달 전   \n",
       "7          이동선        4  6일 전   \n",
       "\n",
       "                                             comment  \n",
       "0  리저브매장답게 향좋고 맛좋은 커피들과 디저트들이 있고, 직원분들도 친절해서 좋아요^...  \n",
       "1  종로타워 1,2층에 위치한 스타벅스 리져브 매장. 1층은 코로나 이후 사용을 하지 ...  \n",
       "2  Pour over 과 clover 추출방식이있는 스타벅스 프리미엄 커피숍 입니다. ...  \n",
       "3                              위치, 시설 다 좋은데 협소해서 슬퍼요  \n",
       "4              공간이 넓은 스타벅스 Reserve 점입니다. 작품들도 볼만합니다.  \n",
       "5                                          분위기좋습니다.굿  \n",
       "6  2018.06\\n리저브 중 매우 좋다.  시원한 인테리어.  리저브 6개의 추출기구...  \n",
       "7                   넓고 편함. 아무도 간섭하지 않음.\\n인터넷만 좀 불편함.  "
      ]
     },
     "execution_count": 36,
     "metadata": {},
     "output_type": "execute_result"
    }
   ],
   "source": [
    "df"
   ]
  },
  {
   "cell_type": "code",
   "execution_count": 27,
   "id": "132f01ab",
   "metadata": {},
   "outputs": [],
   "source": [
    "scrollable_div = driver.find_element_by_css_selector(\n",
    "    '#pane > div > div.widget-pane-content.cYB2Ge-oHo7ed > div > div > div.section-layout.section-scrollbox.cYB2Ge-oHo7ed.cYB2Ge-ti6hGc')"
   ]
  },
  {
   "cell_type": "code",
   "execution_count": 31,
   "id": "e8610c04",
   "metadata": {},
   "outputs": [],
   "source": [
    "driver.execute_script('arguments[0].scrollTop = arguments[0].scrollHeight', scrollable_div)"
   ]
  },
  {
   "cell_type": "code",
   "execution_count": 30,
   "id": "7a102d03",
   "metadata": {},
   "outputs": [
    {
     "data": {
      "text/plain": [
       "selenium.webdriver.remote.webelement.WebElement"
      ]
     },
     "execution_count": 30,
     "metadata": {},
     "output_type": "execute_result"
    }
   ],
   "source": [
    "type(scrollable_div)"
   ]
  },
  {
   "cell_type": "code",
   "execution_count": 24,
   "id": "40a172f9",
   "metadata": {},
   "outputs": [
    {
     "data": {
      "text/plain": [
       "915"
      ]
     },
     "execution_count": 24,
     "metadata": {},
     "output_type": "execute_result"
    }
   ],
   "source": [
    "driver.execute_script(\"return document.body.scrollHeight\")"
   ]
  },
  {
   "cell_type": "code",
   "execution_count": 23,
   "id": "a474d63d",
   "metadata": {},
   "outputs": [
    {
     "name": "stdout",
     "output_type": "stream",
     "text": [
      "915\n"
     ]
    }
   ],
   "source": [
    "last_height = driver.execute_script(\"return document.body.scrollHeight\")\n",
    "\n",
    "print(last_height)"
   ]
  },
  {
   "cell_type": "code",
   "execution_count": 20,
   "id": "f810b4da",
   "metadata": {
    "scrolled": false
   },
   "outputs": [
    {
     "data": {
      "text/plain": [
       "<selenium.webdriver.remote.webelement.WebElement (session=\"4f0587b511a04e5a2fd6d0bfd7add768\", element=\"8c40587f-34bc-45ec-892d-62728ca3bdb5\")>"
      ]
     },
     "execution_count": 20,
     "metadata": {},
     "output_type": "execute_result"
    }
   ],
   "source": [
    "text_list = division_all.find_elements_by_tag_name('span')\n",
    "text_list[0]"
   ]
  },
  {
   "cell_type": "code",
   "execution_count": 33,
   "id": "fde50865",
   "metadata": {},
   "outputs": [
    {
     "ename": "JavascriptException",
     "evalue": "Message: javascript error: Failed to execute 'scrollTo' on 'Window': cannot convert to dictionary.\n  (Session info: chrome=92.0.4515.131)\n",
     "output_type": "error",
     "traceback": [
      "\u001b[1;31m---------------------------------------------------------------------------\u001b[0m",
      "\u001b[1;31mJavascriptException\u001b[0m                       Traceback (most recent call last)",
      "\u001b[1;32m<ipython-input-33-828c2ed72452>\u001b[0m in \u001b[0;36m<module>\u001b[1;34m\u001b[0m\n\u001b[0;32m      5\u001b[0m \u001b[1;32mwhile\u001b[0m \u001b[1;32mTrue\u001b[0m\u001b[1;33m:\u001b[0m\u001b[1;33m\u001b[0m\u001b[1;33m\u001b[0m\u001b[0m\n\u001b[0;32m      6\u001b[0m     \u001b[1;31m# 끝까지 스크롤 다운\u001b[0m\u001b[1;33m\u001b[0m\u001b[1;33m\u001b[0m\u001b[1;33m\u001b[0m\u001b[0m\n\u001b[1;32m----> 7\u001b[1;33m     \u001b[0mdriver\u001b[0m\u001b[1;33m.\u001b[0m\u001b[0mexecute_script\u001b[0m\u001b[1;33m(\u001b[0m\u001b[1;34m\"window.scrollTo(document.body.scrollHeight);\"\u001b[0m\u001b[1;33m,\u001b[0m \u001b[0mscrollable_div\u001b[0m\u001b[1;33m)\u001b[0m\u001b[1;33m\u001b[0m\u001b[1;33m\u001b[0m\u001b[0m\n\u001b[0m\u001b[0;32m      8\u001b[0m \u001b[1;33m\u001b[0m\u001b[0m\n\u001b[0;32m      9\u001b[0m     \u001b[0mtime\u001b[0m\u001b[1;33m.\u001b[0m\u001b[0msleep\u001b[0m\u001b[1;33m(\u001b[0m\u001b[0mSCROLL_PAUSE_SEC\u001b[0m\u001b[1;33m)\u001b[0m\u001b[1;33m\u001b[0m\u001b[1;33m\u001b[0m\u001b[0m\n",
      "\u001b[1;32mC:\\anaconda3\\lib\\site-packages\\selenium\\webdriver\\remote\\webdriver.py\u001b[0m in \u001b[0;36mexecute_script\u001b[1;34m(self, script, *args)\u001b[0m\n\u001b[0;32m    632\u001b[0m             \u001b[0mcommand\u001b[0m \u001b[1;33m=\u001b[0m \u001b[0mCommand\u001b[0m\u001b[1;33m.\u001b[0m\u001b[0mEXECUTE_SCRIPT\u001b[0m\u001b[1;33m\u001b[0m\u001b[1;33m\u001b[0m\u001b[0m\n\u001b[0;32m    633\u001b[0m \u001b[1;33m\u001b[0m\u001b[0m\n\u001b[1;32m--> 634\u001b[1;33m         return self.execute(command, {\n\u001b[0m\u001b[0;32m    635\u001b[0m             \u001b[1;34m'script'\u001b[0m\u001b[1;33m:\u001b[0m \u001b[0mscript\u001b[0m\u001b[1;33m,\u001b[0m\u001b[1;33m\u001b[0m\u001b[1;33m\u001b[0m\u001b[0m\n\u001b[0;32m    636\u001b[0m             'args': converted_args})['value']\n",
      "\u001b[1;32mC:\\anaconda3\\lib\\site-packages\\selenium\\webdriver\\remote\\webdriver.py\u001b[0m in \u001b[0;36mexecute\u001b[1;34m(self, driver_command, params)\u001b[0m\n\u001b[0;32m    319\u001b[0m         \u001b[0mresponse\u001b[0m \u001b[1;33m=\u001b[0m \u001b[0mself\u001b[0m\u001b[1;33m.\u001b[0m\u001b[0mcommand_executor\u001b[0m\u001b[1;33m.\u001b[0m\u001b[0mexecute\u001b[0m\u001b[1;33m(\u001b[0m\u001b[0mdriver_command\u001b[0m\u001b[1;33m,\u001b[0m \u001b[0mparams\u001b[0m\u001b[1;33m)\u001b[0m\u001b[1;33m\u001b[0m\u001b[1;33m\u001b[0m\u001b[0m\n\u001b[0;32m    320\u001b[0m         \u001b[1;32mif\u001b[0m \u001b[0mresponse\u001b[0m\u001b[1;33m:\u001b[0m\u001b[1;33m\u001b[0m\u001b[1;33m\u001b[0m\u001b[0m\n\u001b[1;32m--> 321\u001b[1;33m             \u001b[0mself\u001b[0m\u001b[1;33m.\u001b[0m\u001b[0merror_handler\u001b[0m\u001b[1;33m.\u001b[0m\u001b[0mcheck_response\u001b[0m\u001b[1;33m(\u001b[0m\u001b[0mresponse\u001b[0m\u001b[1;33m)\u001b[0m\u001b[1;33m\u001b[0m\u001b[1;33m\u001b[0m\u001b[0m\n\u001b[0m\u001b[0;32m    322\u001b[0m             response['value'] = self._unwrap_value(\n\u001b[0;32m    323\u001b[0m                 response.get('value', None))\n",
      "\u001b[1;32mC:\\anaconda3\\lib\\site-packages\\selenium\\webdriver\\remote\\errorhandler.py\u001b[0m in \u001b[0;36mcheck_response\u001b[1;34m(self, response)\u001b[0m\n\u001b[0;32m    240\u001b[0m                 \u001b[0malert_text\u001b[0m \u001b[1;33m=\u001b[0m \u001b[0mvalue\u001b[0m\u001b[1;33m[\u001b[0m\u001b[1;34m'alert'\u001b[0m\u001b[1;33m]\u001b[0m\u001b[1;33m.\u001b[0m\u001b[0mget\u001b[0m\u001b[1;33m(\u001b[0m\u001b[1;34m'text'\u001b[0m\u001b[1;33m)\u001b[0m\u001b[1;33m\u001b[0m\u001b[1;33m\u001b[0m\u001b[0m\n\u001b[0;32m    241\u001b[0m             \u001b[1;32mraise\u001b[0m \u001b[0mexception_class\u001b[0m\u001b[1;33m(\u001b[0m\u001b[0mmessage\u001b[0m\u001b[1;33m,\u001b[0m \u001b[0mscreen\u001b[0m\u001b[1;33m,\u001b[0m \u001b[0mstacktrace\u001b[0m\u001b[1;33m,\u001b[0m \u001b[0malert_text\u001b[0m\u001b[1;33m)\u001b[0m\u001b[1;33m\u001b[0m\u001b[1;33m\u001b[0m\u001b[0m\n\u001b[1;32m--> 242\u001b[1;33m         \u001b[1;32mraise\u001b[0m \u001b[0mexception_class\u001b[0m\u001b[1;33m(\u001b[0m\u001b[0mmessage\u001b[0m\u001b[1;33m,\u001b[0m \u001b[0mscreen\u001b[0m\u001b[1;33m,\u001b[0m \u001b[0mstacktrace\u001b[0m\u001b[1;33m)\u001b[0m\u001b[1;33m\u001b[0m\u001b[1;33m\u001b[0m\u001b[0m\n\u001b[0m\u001b[0;32m    243\u001b[0m \u001b[1;33m\u001b[0m\u001b[0m\n\u001b[0;32m    244\u001b[0m     \u001b[1;32mdef\u001b[0m \u001b[0m_value_or_default\u001b[0m\u001b[1;33m(\u001b[0m\u001b[0mself\u001b[0m\u001b[1;33m,\u001b[0m \u001b[0mobj\u001b[0m\u001b[1;33m,\u001b[0m \u001b[0mkey\u001b[0m\u001b[1;33m,\u001b[0m \u001b[0mdefault\u001b[0m\u001b[1;33m)\u001b[0m\u001b[1;33m:\u001b[0m\u001b[1;33m\u001b[0m\u001b[1;33m\u001b[0m\u001b[0m\n",
      "\u001b[1;31mJavascriptException\u001b[0m: Message: javascript error: Failed to execute 'scrollTo' on 'Window': cannot convert to dictionary.\n  (Session info: chrome=92.0.4515.131)\n"
     ]
    }
   ],
   "source": [
    "SCROLL_PAUSE_SEC = 2\n",
    "\n",
    "# 스크롤 높이 가져옴\n",
    "last_height = driver.execute_script(\"return document.body.scrollHeight\")\n",
    "while True:\n",
    "    # 끝까지 스크롤 다운\n",
    "    driver.execute_script(\"window.scrollTo(document.body.scrollHeight);\", scrollable_div)\n",
    "\n",
    "    time.sleep(SCROLL_PAUSE_SEC)\n",
    "\n",
    "    # 스크롤 다운 후 스크롤 높이 다시 가져옴\n",
    "    new_height = driver.execute_script(\"return document.body.scrollHeight\")\n",
    "    if new_height == last_height:\n",
    "        break\n",
    "    last_height = new_height"
   ]
  },
  {
   "cell_type": "code",
   "execution_count": 95,
   "id": "bfd0fa9b",
   "metadata": {
    "scrolled": false
   },
   "outputs": [],
   "source": [
    "link = 'https://www.google.com/maps/place/%EC%8A%A4%ED%83%80%EB%B2%85%EC%8A%A4+%EB%8D%94%EC%A2%85%EB%A1%9CR%EC%A0%90/@37.537104,126.7809418,11z/data=!4m11!1m2!2m1!1z7ISc7Jq4IOyKpO2DgOuyheyKpA!3m7!1s0x357ca2e91d47728f:0x7a8a48d7f1a3e119!8m2!3d37.5707075!4d126.9835766!9m1!1b1!15sChPshJzsmrgg7Iqk7YOA67KF7IqkIgOIAQFaFiIU7ISc7Jq4IOyKpO2DgCDrsoXsiqSSAQtjb2ZmZWVfc2hvcA?hl=ko'\n",
    "path = r'C:\\Users\\재욱\\Downloads\\chromedriver.exe'\n",
    "driver = webdriver.Chrome(path)\n",
    "\n",
    "driver.get(link)\n",
    "time.sleep(2)\n",
    "doScrollDown(3)\n",
    "# xpath = '//*[@id=\"pane\"]/div/div[1]/div/div/div[2]'\n",
    "# reviews_divs = driver.find_elements_by_xpath(xpath)\n",
    "# reviews_divs[0].click()\n",
    "# some_tag = driver.find_element_by_id('pane')\n",
    "# time.sleep(2)\n",
    "# action = ActionChains(driver)\n",
    "# action.move_to_element(some_tag).perform()\n",
    "# driver.execute_script(\"window.scrollTo(0, 888);\")"
   ]
  },
  {
   "cell_type": "code",
   "execution_count": 87,
   "id": "99b5775b",
   "metadata": {
    "scrolled": true
   },
   "outputs": [
    {
     "data": {
      "text/plain": [
       "<selenium.webdriver.remote.webelement.WebElement (session=\"cd4eba63e854b2a2743121e68e9f1039\", element=\"d2ec1575-cc9b-4883-bea7-3eee86dc7a23\")>"
      ]
     },
     "execution_count": 87,
     "metadata": {},
     "output_type": "execute_result"
    }
   ],
   "source": [
    "driver.find_element_by_id('pane')"
   ]
  },
  {
   "cell_type": "code",
   "execution_count": 89,
   "id": "8b182d55",
   "metadata": {},
   "outputs": [],
   "source": [
    "action = ActionChains(driver)\n",
    "action.move_to_element(some_tag).perform()"
   ]
  },
  {
   "cell_type": "code",
   "execution_count": 77,
   "id": "10eb5701",
   "metadata": {},
   "outputs": [
    {
     "data": {
      "text/plain": [
       "[]"
      ]
     },
     "execution_count": 77,
     "metadata": {},
     "output_type": "execute_result"
    }
   ],
   "source": [
    "driver.execute_script(\"window.scrollTo(0, 888);\")"
   ]
  },
  {
   "cell_type": "code",
   "execution_count": 62,
   "id": "58ec1ebd",
   "metadata": {},
   "outputs": [],
   "source": [
    "xpath = '//*[@id=\"pane\"]/div/div[1]/div/div'"
   ]
  },
  {
   "cell_type": "code",
   "execution_count": 63,
   "id": "547a12ef",
   "metadata": {},
   "outputs": [],
   "source": [
    "reviews_divs = driver.find_elements_by_xpath(xpath)"
   ]
  },
  {
   "cell_type": "code",
   "execution_count": 64,
   "id": "6340b470",
   "metadata": {},
   "outputs": [],
   "source": [
    "reviews_divs[0].click()"
   ]
  },
  {
   "cell_type": "code",
   "execution_count": null,
   "id": "038bc550",
   "metadata": {},
   "outputs": [],
   "source": [
    "//*[@id=\"pane\"]/div/div[1]/div/div/div[2]"
   ]
  }
 ],
 "metadata": {
  "kernelspec": {
   "display_name": "Python 3",
   "language": "python",
   "name": "python3"
  },
  "language_info": {
   "codemirror_mode": {
    "name": "ipython",
    "version": 3
   },
   "file_extension": ".py",
   "mimetype": "text/x-python",
   "name": "python",
   "nbconvert_exporter": "python",
   "pygments_lexer": "ipython3",
   "version": "3.8.5"
  }
 },
 "nbformat": 4,
 "nbformat_minor": 5
}
