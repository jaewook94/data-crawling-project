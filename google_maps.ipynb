{
 "cells": [
  {
   "cell_type": "code",
   "execution_count": 28,
   "id": "039ead44",
   "metadata": {},
   "outputs": [],
   "source": [
    "import urllib\n",
    "import urllib.request\n",
    "from urllib.request import urlopen\n",
    "import selenium \n",
    "from selenium import webdriver\n",
    "import bs4\n",
    "from bs4 import BeautifulSoup as soup\n",
    "import time\n",
    "from datetime import datetime\n",
    "import pandas as pd\n",
    "import os\n",
    "\n",
    "#새로 추가 Action Chains \n",
    "from selenium.webdriver.common.action_chains import ActionChains"
   ]
  },
  {
   "cell_type": "code",
   "execution_count": 42,
   "id": "6e45de9c",
   "metadata": {},
   "outputs": [],
   "source": [
    "link = 'https://www.google.com/maps/place/%EC%8A%A4%ED%83%80%EB%B2%85%EC%8A%A4+%EB%8D%94%EC%A2%85%EB%A1%9CR%EC%A0%90/@37.537104,126.7809418,11z/data=!4m11!1m2!2m1!1z7ISc7Jq4IOyKpO2DgOuyheyKpA!3m7!1s0x357ca2e91d47728f:0x7a8a48d7f1a3e119!8m2!3d37.5707075!4d126.9835766!9m1!1b1!15sChPshJzsmrgg7Iqk7YOA67KF7IqkIgOIAQFaFiIU7ISc7Jq4IOyKpO2DgCDrsoXsiqSSAQtjb2ZmZWVfc2hvcA?hl=ko'\n",
    "path = r'C:\\Users\\재욱\\Downloads\\chromedriver.exe'\n",
    "driver = webdriver.Chrome(path)\n",
    "driver.get(link)                 \n",
    "os.makedirs('result', exist_ok = True)   "
   ]
  },
  {
   "cell_type": "code",
   "execution_count": 3,
   "id": "a474d63d",
   "metadata": {},
   "outputs": [
    {
     "name": "stdout",
     "output_type": "stream",
     "text": [
      "888\n"
     ]
    }
   ],
   "source": [
    "last_height = driver.execute_script(\"return document.body.scrollHeight\")\n",
    "\n",
    "print(last_height)"
   ]
  },
  {
   "cell_type": "code",
   "execution_count": 4,
   "id": "94eee1a7",
   "metadata": {},
   "outputs": [],
   "source": [
    "xpath = '//*[@id=\"pane\"]/div/div[1]/div/div/div[2]/div[9]/div[1]/div/div[3]/div[3]/div[2]/span[2]'\n",
    "division = driver.find_element_by_xpath(xpath)\n",
    "# country_list = division.find_elements_by_tag_name('a') # List형"
   ]
  },
  {
   "cell_type": "code",
   "execution_count": 5,
   "id": "6248c0b7",
   "metadata": {
    "scrolled": true
   },
   "outputs": [
    {
     "data": {
      "text/plain": [
       "\"리저브매장답게 향좋고 맛좋은 커피들과 디저트들이 있고, 직원분들도 친절해서 좋아요^^\\n\\n어제 마셨던 '에콰도르 로자' 커피와\\n'슈크림 레이어 케이크'와의 궁합은 따봉!!×100\\n\\n단지 코로나19의 영향으로 예전처럼 리저브 제품을 주문후 바에 앉아도 커피를 만들어주시는 직원분과의 커뮤니케이션을 할 수 없다는건 안타까움으로 남습니다.\""
      ]
     },
     "execution_count": 5,
     "metadata": {},
     "output_type": "execute_result"
    }
   ],
   "source": [
    "division.text"
   ]
  },
  {
   "cell_type": "code",
   "execution_count": 43,
   "id": "f018ccf7",
   "metadata": {},
   "outputs": [
    {
     "data": {
      "text/plain": [
       "\"모든 리뷰\\n5\\n4\\n3\\n2\\n1\\n4.3\\n리뷰 1,774개\\n리뷰 작성\\n정렬\\n전체\\n테이크아웃\\n4\\n사람\\n121\\n좌석\\n38\\n인테리어\\n37\\n그런지\\n14\\n최고\\n14\\n주말\\n12\\n평일\\n10\\n추출\\n7\\n원두\\n6\\nyozef Gil\\n지역 가이드 ・리뷰 14개\\n1주 전\\n리저브매장답게 향좋고 맛좋은 커피들과 디저트들이 있고, 직원분들도 친절해서 좋아요^^\\n\\n어제 마셨던 '에콰도르 로자' 커피와…\\n자세히\\n좋아요\\n공유\\nD.W.C Love\\n지역 가이드 ・리뷰 425개\\n1달 전\\n종로타워 1,2층에 위치한 스타벅스 리져브 매장. 1층은 코로나 이후 사용을 하지 않고 있고 2층만 영업중입니다. 리져브 매장이다보니 리져브 매장에서만 파는 커피와 음료가 있고 픽업하는곳도 다릅니다. 통유리로 되어 있다보니 창가쪽에 앉기는 정말 힘들고 피크타임이 지나도 앉기 힘들 정도로 인기가 많고 사람들도 많습니다.\\n3\\n개 더보기\\n좋아요\\n공유\\nTina\\n지역 가이드 ・리뷰 201개\\n4달 전\\nPour over 과 clover 추출방식이있는 스타벅스 프리미엄 커피숍 입니다. 종각오면 다른커피숍은 들리지 않고 꼭여기와서 특별한 추출방식으로뽑은 커피를 마시고 있습니다. 인테리어 도 고급이고 보통 커피숍 보다 업그레이드 된 격품 있는 곳입니다.\\n2\\n개 더보기\\n1\\n공유\\nJH S\\n지역 가이드 ・리뷰 226개\\n1주 전\\n위치, 시설 다 좋은데 협소해서 슬퍼요\\n좋아요\\n공유\\n박찬호\\n지역 가이드 ・리뷰 608개\\n2달 전\\n공간이 넓은 스타벅스 Reserve 점입니다. 작품들도 볼만합니다.\\n6\\n개 더보기\\n좋아요\\n공유\\n최형순\\n지역 가이드 ・리뷰 80개\\n1달 전\\n분위기좋습니다.굿\\n2\\n개 더보기\\n좋아요\\n공유\\n정민세\\n지역 가이드 ・리뷰 133개\\n2달 전\\n2018.06\\n리저브 중 매우 좋다.  시원한 인테리어.  리저브 6개의 추출기구 모두를 사용할 수 있으며 직원들이 친절하다.  그리고 혼자 작업할 수도 있을만큼 그런 사람도 있고 서울 시내 다른 카페보다는 조금은 여유롭다. 조금은.\\n좋아요\\n공유\\n이동선\\n지역 가이드 ・리뷰 34개\\n5일 전\\n넓고 편함. 아무도 간섭하지 않음.\\n인터넷만 좀 불편함.\\n좋아요\\n공유\""
      ]
     },
     "execution_count": 43,
     "metadata": {},
     "output_type": "execute_result"
    }
   ],
   "source": [
    "xpath_all = '//*[@id=\"pane\"]/div/div[1]/div/div'\n",
    "division_all = driver.find_element_by_xpath(xpath_all)\n",
    "division_all.text"
   ]
  },
  {
   "cell_type": "code",
   "execution_count": 45,
   "id": "726ebb2d",
   "metadata": {},
   "outputs": [
    {
     "name": "stdout",
     "output_type": "stream",
     "text": [
      "리저브매장답게 향좋고 맛좋은 커피들과 디저트들이 있고, 직원분들도 친절해서 좋아요^^\n",
      "\n",
      "어제 마셨던 '에콰도르 로자' 커피와…\n",
      "종로타워 1,2층에 위치한 스타벅스 리져브 매장. 1층은 코로나 이후 사용을 하지 않고 있고 2층만 영업중입니다. 리져브 매장이다보니 리져브 매장에서만 파는 커피와 음료가 있고 픽업하는곳도 다릅니다. 통유리로 되어 있다보니 창가쪽에 앉기는 정말 힘들고 피크타임이 지나도 앉기 힘들 정도로 인기가 많고 사람들도 많습니다.\n",
      "Pour over 과 clover 추출방식이있는 스타벅스 프리미엄 커피숍 입니다. 종각오면 다른커피숍은 들리지 않고 꼭여기와서 특별한 추출방식으로뽑은 커피를 마시고 있습니다. 인테리어 도 고급이고 보통 커피숍 보다 업그레이드 된 격품 있는 곳입니다.\n",
      "위치, 시설 다 좋은데 협소해서 슬퍼요\n",
      "공간이 넓은 스타벅스 Reserve 점입니다. 작품들도 볼만합니다.\n",
      "분위기좋습니다.굿\n",
      "2018.06\n",
      "리저브 중 매우 좋다.  시원한 인테리어.  리저브 6개의 추출기구 모두를 사용할 수 있으며 직원들이 친절하다.  그리고 혼자 작업할 수도 있을만큼 그런 사람도 있고 서울 시내 다른 카페보다는 조금은 여유롭다. 조금은.\n",
      "넓고 편함. 아무도 간섭하지 않음.\n",
      "인터넷만 좀 불편함.\n"
     ]
    },
    {
     "ename": "IndexError",
     "evalue": "list index out of range",
     "output_type": "error",
     "traceback": [
      "\u001b[1;31m---------------------------------------------------------------------------\u001b[0m",
      "\u001b[1;31mIndexError\u001b[0m                                Traceback (most recent call last)",
      "\u001b[1;32m<ipython-input-45-c945b6ee5ba9>\u001b[0m in \u001b[0;36m<module>\u001b[1;34m\u001b[0m\n\u001b[0;32m      1\u001b[0m \u001b[1;32mfor\u001b[0m \u001b[0mi\u001b[0m \u001b[1;32min\u001b[0m \u001b[0mrange\u001b[0m\u001b[1;33m(\u001b[0m\u001b[0mlen\u001b[0m\u001b[1;33m(\u001b[0m\u001b[0mdivision_all\u001b[0m\u001b[1;33m.\u001b[0m\u001b[0mfind_elements_by_tag_name\u001b[0m\u001b[1;33m(\u001b[0m\u001b[1;34m'span'\u001b[0m\u001b[1;33m)\u001b[0m\u001b[1;33m)\u001b[0m\u001b[1;33m)\u001b[0m\u001b[1;33m:\u001b[0m\u001b[1;33m\u001b[0m\u001b[1;33m\u001b[0m\u001b[0m\n\u001b[1;32m----> 2\u001b[1;33m    \u001b[0mprint\u001b[0m\u001b[1;33m(\u001b[0m\u001b[0mdivision_all\u001b[0m\u001b[1;33m.\u001b[0m\u001b[0mfind_elements_by_class_name\u001b[0m\u001b[1;33m(\u001b[0m\u001b[1;34m'ODSEW-ShBeI-text'\u001b[0m\u001b[1;33m)\u001b[0m\u001b[1;33m[\u001b[0m\u001b[0mi\u001b[0m\u001b[1;33m]\u001b[0m\u001b[1;33m.\u001b[0m\u001b[0mtext\u001b[0m\u001b[1;33m)\u001b[0m\u001b[1;33m\u001b[0m\u001b[1;33m\u001b[0m\u001b[0m\n\u001b[0m",
      "\u001b[1;31mIndexError\u001b[0m: list index out of range"
     ]
    }
   ],
   "source": [
    "for i in range(len(division_all.find_elements_by_tag_name('span'))):\n",
    "   print(division_all.find_elements_by_class_name('ODSEW-ShBeI-text')[i].text)"
   ]
  },
  {
   "cell_type": "code",
   "execution_count": 20,
   "id": "f810b4da",
   "metadata": {
    "scrolled": false
   },
   "outputs": [
    {
     "data": {
      "text/plain": [
       "<selenium.webdriver.remote.webelement.WebElement (session=\"4f0587b511a04e5a2fd6d0bfd7add768\", element=\"8c40587f-34bc-45ec-892d-62728ca3bdb5\")>"
      ]
     },
     "execution_count": 20,
     "metadata": {},
     "output_type": "execute_result"
    }
   ],
   "source": [
    "text_list = division_all.find_elements_by_tag_name('span')\n",
    "text_list[0]"
   ]
  },
  {
   "cell_type": "code",
   "execution_count": 39,
   "id": "7ceaf145",
   "metadata": {},
   "outputs": [
    {
     "data": {
      "text/plain": [
       "''"
      ]
     },
     "execution_count": 39,
     "metadata": {},
     "output_type": "execute_result"
    }
   ],
   "source": [
    "text_list[0].text"
   ]
  },
  {
   "cell_type": "code",
   "execution_count": 40,
   "id": "c56fa741",
   "metadata": {},
   "outputs": [
    {
     "name": "stdout",
     "output_type": "stream",
     "text": [
      "\n",
      "\n",
      "\n"
     ]
    },
    {
     "ename": "StaleElementReferenceException",
     "evalue": "Message: stale element reference: element is not attached to the page document\n  (Session info: chrome=92.0.4515.131)\n",
     "output_type": "error",
     "traceback": [
      "\u001b[1;31m---------------------------------------------------------------------------\u001b[0m",
      "\u001b[1;31mStaleElementReferenceException\u001b[0m            Traceback (most recent call last)",
      "\u001b[1;32m<ipython-input-40-ef8f441004f3>\u001b[0m in \u001b[0;36m<module>\u001b[1;34m\u001b[0m\n\u001b[0;32m      1\u001b[0m \u001b[1;32mfor\u001b[0m \u001b[0mi\u001b[0m \u001b[1;32min\u001b[0m \u001b[0mtext_list\u001b[0m\u001b[1;33m:\u001b[0m\u001b[1;33m\u001b[0m\u001b[1;33m\u001b[0m\u001b[0m\n\u001b[1;32m----> 2\u001b[1;33m     \u001b[0mprint\u001b[0m\u001b[1;33m(\u001b[0m\u001b[0mi\u001b[0m\u001b[1;33m.\u001b[0m\u001b[0mtext\u001b[0m\u001b[1;33m)\u001b[0m\u001b[1;33m\u001b[0m\u001b[1;33m\u001b[0m\u001b[0m\n\u001b[0m",
      "\u001b[1;32mC:\\anaconda3\\lib\\site-packages\\selenium\\webdriver\\remote\\webelement.py\u001b[0m in \u001b[0;36mtext\u001b[1;34m(self)\u001b[0m\n\u001b[0;32m     74\u001b[0m     \u001b[1;32mdef\u001b[0m \u001b[0mtext\u001b[0m\u001b[1;33m(\u001b[0m\u001b[0mself\u001b[0m\u001b[1;33m)\u001b[0m\u001b[1;33m:\u001b[0m\u001b[1;33m\u001b[0m\u001b[1;33m\u001b[0m\u001b[0m\n\u001b[0;32m     75\u001b[0m         \u001b[1;34m\"\"\"The text of the element.\"\"\"\u001b[0m\u001b[1;33m\u001b[0m\u001b[1;33m\u001b[0m\u001b[0m\n\u001b[1;32m---> 76\u001b[1;33m         \u001b[1;32mreturn\u001b[0m \u001b[0mself\u001b[0m\u001b[1;33m.\u001b[0m\u001b[0m_execute\u001b[0m\u001b[1;33m(\u001b[0m\u001b[0mCommand\u001b[0m\u001b[1;33m.\u001b[0m\u001b[0mGET_ELEMENT_TEXT\u001b[0m\u001b[1;33m)\u001b[0m\u001b[1;33m[\u001b[0m\u001b[1;34m'value'\u001b[0m\u001b[1;33m]\u001b[0m\u001b[1;33m\u001b[0m\u001b[1;33m\u001b[0m\u001b[0m\n\u001b[0m\u001b[0;32m     77\u001b[0m \u001b[1;33m\u001b[0m\u001b[0m\n\u001b[0;32m     78\u001b[0m     \u001b[1;32mdef\u001b[0m \u001b[0mclick\u001b[0m\u001b[1;33m(\u001b[0m\u001b[0mself\u001b[0m\u001b[1;33m)\u001b[0m\u001b[1;33m:\u001b[0m\u001b[1;33m\u001b[0m\u001b[1;33m\u001b[0m\u001b[0m\n",
      "\u001b[1;32mC:\\anaconda3\\lib\\site-packages\\selenium\\webdriver\\remote\\webelement.py\u001b[0m in \u001b[0;36m_execute\u001b[1;34m(self, command, params)\u001b[0m\n\u001b[0;32m    631\u001b[0m             \u001b[0mparams\u001b[0m \u001b[1;33m=\u001b[0m \u001b[1;33m{\u001b[0m\u001b[1;33m}\u001b[0m\u001b[1;33m\u001b[0m\u001b[1;33m\u001b[0m\u001b[0m\n\u001b[0;32m    632\u001b[0m         \u001b[0mparams\u001b[0m\u001b[1;33m[\u001b[0m\u001b[1;34m'id'\u001b[0m\u001b[1;33m]\u001b[0m \u001b[1;33m=\u001b[0m \u001b[0mself\u001b[0m\u001b[1;33m.\u001b[0m\u001b[0m_id\u001b[0m\u001b[1;33m\u001b[0m\u001b[1;33m\u001b[0m\u001b[0m\n\u001b[1;32m--> 633\u001b[1;33m         \u001b[1;32mreturn\u001b[0m \u001b[0mself\u001b[0m\u001b[1;33m.\u001b[0m\u001b[0m_parent\u001b[0m\u001b[1;33m.\u001b[0m\u001b[0mexecute\u001b[0m\u001b[1;33m(\u001b[0m\u001b[0mcommand\u001b[0m\u001b[1;33m,\u001b[0m \u001b[0mparams\u001b[0m\u001b[1;33m)\u001b[0m\u001b[1;33m\u001b[0m\u001b[1;33m\u001b[0m\u001b[0m\n\u001b[0m\u001b[0;32m    634\u001b[0m \u001b[1;33m\u001b[0m\u001b[0m\n\u001b[0;32m    635\u001b[0m     \u001b[1;32mdef\u001b[0m \u001b[0mfind_element\u001b[0m\u001b[1;33m(\u001b[0m\u001b[0mself\u001b[0m\u001b[1;33m,\u001b[0m \u001b[0mby\u001b[0m\u001b[1;33m=\u001b[0m\u001b[0mBy\u001b[0m\u001b[1;33m.\u001b[0m\u001b[0mID\u001b[0m\u001b[1;33m,\u001b[0m \u001b[0mvalue\u001b[0m\u001b[1;33m=\u001b[0m\u001b[1;32mNone\u001b[0m\u001b[1;33m)\u001b[0m\u001b[1;33m:\u001b[0m\u001b[1;33m\u001b[0m\u001b[1;33m\u001b[0m\u001b[0m\n",
      "\u001b[1;32mC:\\anaconda3\\lib\\site-packages\\selenium\\webdriver\\remote\\webdriver.py\u001b[0m in \u001b[0;36mexecute\u001b[1;34m(self, driver_command, params)\u001b[0m\n\u001b[0;32m    319\u001b[0m         \u001b[0mresponse\u001b[0m \u001b[1;33m=\u001b[0m \u001b[0mself\u001b[0m\u001b[1;33m.\u001b[0m\u001b[0mcommand_executor\u001b[0m\u001b[1;33m.\u001b[0m\u001b[0mexecute\u001b[0m\u001b[1;33m(\u001b[0m\u001b[0mdriver_command\u001b[0m\u001b[1;33m,\u001b[0m \u001b[0mparams\u001b[0m\u001b[1;33m)\u001b[0m\u001b[1;33m\u001b[0m\u001b[1;33m\u001b[0m\u001b[0m\n\u001b[0;32m    320\u001b[0m         \u001b[1;32mif\u001b[0m \u001b[0mresponse\u001b[0m\u001b[1;33m:\u001b[0m\u001b[1;33m\u001b[0m\u001b[1;33m\u001b[0m\u001b[0m\n\u001b[1;32m--> 321\u001b[1;33m             \u001b[0mself\u001b[0m\u001b[1;33m.\u001b[0m\u001b[0merror_handler\u001b[0m\u001b[1;33m.\u001b[0m\u001b[0mcheck_response\u001b[0m\u001b[1;33m(\u001b[0m\u001b[0mresponse\u001b[0m\u001b[1;33m)\u001b[0m\u001b[1;33m\u001b[0m\u001b[1;33m\u001b[0m\u001b[0m\n\u001b[0m\u001b[0;32m    322\u001b[0m             response['value'] = self._unwrap_value(\n\u001b[0;32m    323\u001b[0m                 response.get('value', None))\n",
      "\u001b[1;32mC:\\anaconda3\\lib\\site-packages\\selenium\\webdriver\\remote\\errorhandler.py\u001b[0m in \u001b[0;36mcheck_response\u001b[1;34m(self, response)\u001b[0m\n\u001b[0;32m    240\u001b[0m                 \u001b[0malert_text\u001b[0m \u001b[1;33m=\u001b[0m \u001b[0mvalue\u001b[0m\u001b[1;33m[\u001b[0m\u001b[1;34m'alert'\u001b[0m\u001b[1;33m]\u001b[0m\u001b[1;33m.\u001b[0m\u001b[0mget\u001b[0m\u001b[1;33m(\u001b[0m\u001b[1;34m'text'\u001b[0m\u001b[1;33m)\u001b[0m\u001b[1;33m\u001b[0m\u001b[1;33m\u001b[0m\u001b[0m\n\u001b[0;32m    241\u001b[0m             \u001b[1;32mraise\u001b[0m \u001b[0mexception_class\u001b[0m\u001b[1;33m(\u001b[0m\u001b[0mmessage\u001b[0m\u001b[1;33m,\u001b[0m \u001b[0mscreen\u001b[0m\u001b[1;33m,\u001b[0m \u001b[0mstacktrace\u001b[0m\u001b[1;33m,\u001b[0m \u001b[0malert_text\u001b[0m\u001b[1;33m)\u001b[0m\u001b[1;33m\u001b[0m\u001b[1;33m\u001b[0m\u001b[0m\n\u001b[1;32m--> 242\u001b[1;33m         \u001b[1;32mraise\u001b[0m \u001b[0mexception_class\u001b[0m\u001b[1;33m(\u001b[0m\u001b[0mmessage\u001b[0m\u001b[1;33m,\u001b[0m \u001b[0mscreen\u001b[0m\u001b[1;33m,\u001b[0m \u001b[0mstacktrace\u001b[0m\u001b[1;33m)\u001b[0m\u001b[1;33m\u001b[0m\u001b[1;33m\u001b[0m\u001b[0m\n\u001b[0m\u001b[0;32m    243\u001b[0m \u001b[1;33m\u001b[0m\u001b[0m\n\u001b[0;32m    244\u001b[0m     \u001b[1;32mdef\u001b[0m \u001b[0m_value_or_default\u001b[0m\u001b[1;33m(\u001b[0m\u001b[0mself\u001b[0m\u001b[1;33m,\u001b[0m \u001b[0mobj\u001b[0m\u001b[1;33m,\u001b[0m \u001b[0mkey\u001b[0m\u001b[1;33m,\u001b[0m \u001b[0mdefault\u001b[0m\u001b[1;33m)\u001b[0m\u001b[1;33m:\u001b[0m\u001b[1;33m\u001b[0m\u001b[1;33m\u001b[0m\u001b[0m\n",
      "\u001b[1;31mStaleElementReferenceException\u001b[0m: Message: stale element reference: element is not attached to the page document\n  (Session info: chrome=92.0.4515.131)\n"
     ]
    }
   ],
   "source": [
    "for i in text_list:\n",
    "    print(i.text)"
   ]
  },
  {
   "cell_type": "code",
   "execution_count": 22,
   "id": "24d33641",
   "metadata": {
    "scrolled": true
   },
   "outputs": [
    {
     "ename": "AttributeError",
     "evalue": "'list' object has no attribute 'text'",
     "output_type": "error",
     "traceback": [
      "\u001b[1;31m---------------------------------------------------------------------------\u001b[0m",
      "\u001b[1;31mAttributeError\u001b[0m                            Traceback (most recent call last)",
      "\u001b[1;32m<ipython-input-22-4d3d8ea463fd>\u001b[0m in \u001b[0;36m<module>\u001b[1;34m\u001b[0m\n\u001b[0;32m      1\u001b[0m \u001b[1;32mfor\u001b[0m \u001b[0mtext\u001b[0m \u001b[1;32min\u001b[0m \u001b[0mtext_list\u001b[0m\u001b[1;33m:\u001b[0m\u001b[1;33m\u001b[0m\u001b[1;33m\u001b[0m\u001b[0m\n\u001b[1;32m----> 2\u001b[1;33m     \u001b[0mreview\u001b[0m \u001b[1;33m=\u001b[0m \u001b[0mtext\u001b[0m\u001b[1;33m.\u001b[0m\u001b[0mfind_elements_by_class_name\u001b[0m\u001b[1;33m(\u001b[0m\u001b[1;34m'jstcache'\u001b[0m\u001b[1;33m)\u001b[0m\u001b[1;33m.\u001b[0m\u001b[0mtext\u001b[0m\u001b[1;33m\u001b[0m\u001b[1;33m\u001b[0m\u001b[0m\n\u001b[0m\u001b[0;32m      3\u001b[0m     \u001b[0mprint\u001b[0m\u001b[1;33m(\u001b[0m\u001b[0mreview\u001b[0m\u001b[1;33m)\u001b[0m\u001b[1;33m\u001b[0m\u001b[1;33m\u001b[0m\u001b[0m\n",
      "\u001b[1;31mAttributeError\u001b[0m: 'list' object has no attribute 'text'"
     ]
    }
   ],
   "source": [
    "for text in text_list:\n",
    "    review = text.find_elements_by_class_name('jstcache').text\n",
    "    print(review)"
   ]
  },
  {
   "cell_type": "code",
   "execution_count": null,
   "id": "1ebec044",
   "metadata": {},
   "outputs": [],
   "source": [
    "//*[@id=\"pane\"]/div/div[1]/div/div/div[2]/div[9]/div[19]/div/div[3]/div[3]/div[2]/span[2]"
   ]
  },
  {
   "cell_type": "code",
   "execution_count": 31,
   "id": "2f6cb04b",
   "metadata": {},
   "outputs": [
    {
     "name": "stdout",
     "output_type": "stream",
     "text": [
      "[]\n"
     ]
    },
    {
     "ename": "IndexError",
     "evalue": "list index out of range",
     "output_type": "error",
     "traceback": [
      "\u001b[1;31m---------------------------------------------------------------------------\u001b[0m",
      "\u001b[1;31mIndexError\u001b[0m                                Traceback (most recent call last)",
      "\u001b[1;32m<ipython-input-31-65e2a727ec88>\u001b[0m in \u001b[0;36m<module>\u001b[1;34m\u001b[0m\n\u001b[0;32m      4\u001b[0m \u001b[1;33m\u001b[0m\u001b[0m\n\u001b[0;32m      5\u001b[0m \u001b[0mprint\u001b[0m\u001b[1;33m(\u001b[0m\u001b[0mprecios\u001b[0m\u001b[1;33m)\u001b[0m\u001b[1;33m\u001b[0m\u001b[1;33m\u001b[0m\u001b[0m\n\u001b[1;32m----> 6\u001b[1;33m \u001b[0mprint\u001b[0m \u001b[1;33m(\u001b[0m\u001b[0mprecios\u001b[0m\u001b[1;33m[\u001b[0m\u001b[1;36m0\u001b[0m\u001b[1;33m]\u001b[0m\u001b[1;33m.\u001b[0m\u001b[0mtext\u001b[0m\u001b[1;33m)\u001b[0m\u001b[1;33m\u001b[0m\u001b[1;33m\u001b[0m\u001b[0m\n\u001b[0m",
      "\u001b[1;31mIndexError\u001b[0m: list index out of range"
     ]
    }
   ],
   "source": [
    "page = soup(driver.page_source, 'html.parser')\n",
    "\n",
    "precios = page.findAll('jsl',{'jstcache':'246'})\n",
    "\n",
    "print(precios)\n",
    "print (precios[0].text)"
   ]
  },
  {
   "cell_type": "code",
   "execution_count": null,
   "id": "9e6c2812",
   "metadata": {},
   "outputs": [],
   "source": []
  },
  {
   "cell_type": "code",
   "execution_count": 66,
   "id": "fde50865",
   "metadata": {},
   "outputs": [],
   "source": [
    "SCROLL_PAUSE_SEC = 2\n",
    "\n",
    "# 스크롤 높이 가져옴\n",
    "last_height = driver.execute_script(\"return document.body.scrollHeight\")\n",
    "while True:\n",
    "    # 끝까지 스크롤 다운\n",
    "    reviews_divs[0].click()\n",
    "    driver.execute_script(\"window.scrollTo(0, document.body.scrollHeight);\")\n",
    "\n",
    "    time.sleep(SCROLL_PAUSE_SEC)\n",
    "\n",
    "    # 스크롤 다운 후 스크롤 높이 다시 가져옴\n",
    "    new_height = driver.execute_script(\"return document.body.scrollHeight\")\n",
    "    if new_height == last_height:\n",
    "        break\n",
    "    last_height = new_height"
   ]
  },
  {
   "cell_type": "code",
   "execution_count": 95,
   "id": "bfd0fa9b",
   "metadata": {
    "scrolled": false
   },
   "outputs": [],
   "source": [
    "link = 'https://www.google.com/maps/place/%EC%8A%A4%ED%83%80%EB%B2%85%EC%8A%A4+%EB%8D%94%EC%A2%85%EB%A1%9CR%EC%A0%90/@37.537104,126.7809418,11z/data=!4m11!1m2!2m1!1z7ISc7Jq4IOyKpO2DgOuyheyKpA!3m7!1s0x357ca2e91d47728f:0x7a8a48d7f1a3e119!8m2!3d37.5707075!4d126.9835766!9m1!1b1!15sChPshJzsmrgg7Iqk7YOA67KF7IqkIgOIAQFaFiIU7ISc7Jq4IOyKpO2DgCDrsoXsiqSSAQtjb2ZmZWVfc2hvcA?hl=ko'\n",
    "path = r'C:\\Users\\재욱\\Downloads\\chromedriver.exe'\n",
    "driver = webdriver.Chrome(path)\n",
    "\n",
    "driver.get(link)\n",
    "time.sleep(2)\n",
    "doScrollDown(3)\n",
    "# xpath = '//*[@id=\"pane\"]/div/div[1]/div/div/div[2]'\n",
    "# reviews_divs = driver.find_elements_by_xpath(xpath)\n",
    "# reviews_divs[0].click()\n",
    "# some_tag = driver.find_element_by_id('pane')\n",
    "# time.sleep(2)\n",
    "# action = ActionChains(driver)\n",
    "# action.move_to_element(some_tag).perform()\n",
    "# driver.execute_script(\"window.scrollTo(0, 888);\")"
   ]
  },
  {
   "cell_type": "code",
   "execution_count": 87,
   "id": "99b5775b",
   "metadata": {
    "scrolled": true
   },
   "outputs": [
    {
     "data": {
      "text/plain": [
       "<selenium.webdriver.remote.webelement.WebElement (session=\"cd4eba63e854b2a2743121e68e9f1039\", element=\"d2ec1575-cc9b-4883-bea7-3eee86dc7a23\")>"
      ]
     },
     "execution_count": 87,
     "metadata": {},
     "output_type": "execute_result"
    }
   ],
   "source": [
    "driver.find_element_by_id('pane')"
   ]
  },
  {
   "cell_type": "code",
   "execution_count": 89,
   "id": "8b182d55",
   "metadata": {},
   "outputs": [],
   "source": [
    "action = ActionChains(driver)\n",
    "action.move_to_element(some_tag).perform()"
   ]
  },
  {
   "cell_type": "code",
   "execution_count": 77,
   "id": "10eb5701",
   "metadata": {},
   "outputs": [
    {
     "data": {
      "text/plain": [
       "[]"
      ]
     },
     "execution_count": 77,
     "metadata": {},
     "output_type": "execute_result"
    }
   ],
   "source": [
    "driver.execute_script(\"window.scrollTo(0, 888);\")"
   ]
  },
  {
   "cell_type": "code",
   "execution_count": 62,
   "id": "58ec1ebd",
   "metadata": {},
   "outputs": [],
   "source": [
    "xpath = '//*[@id=\"pane\"]/div/div[1]/div/div'"
   ]
  },
  {
   "cell_type": "code",
   "execution_count": 63,
   "id": "547a12ef",
   "metadata": {},
   "outputs": [],
   "source": [
    "reviews_divs = driver.find_elements_by_xpath(xpath)"
   ]
  },
  {
   "cell_type": "code",
   "execution_count": 64,
   "id": "6340b470",
   "metadata": {},
   "outputs": [],
   "source": [
    "reviews_divs[0].click()"
   ]
  },
  {
   "cell_type": "code",
   "execution_count": null,
   "id": "038bc550",
   "metadata": {},
   "outputs": [],
   "source": [
    "//*[@id=\"pane\"]/div/div[1]/div/div/div[2]"
   ]
  },
  {
   "cell_type": "code",
   "execution_count": null,
   "id": "fa01a1fe",
   "metadata": {},
   "outputs": [],
   "source": [
    "<div jstcache=\"430\" role=\"presentation\" class=\"aopO7e-divider\" jsan=\"t-h6_M4FDMGww,7.aopO7e-divider,5.height,0.role\" style=\"height: 16px;\"></div>"
   ]
  },
  {
   "cell_type": "code",
   "execution_count": 93,
   "id": "2771fcd5",
   "metadata": {},
   "outputs": [],
   "source": [
    "import datetime\n",
    "def doScrollDown(whileSeconds):\n",
    "    start = datetime.datetime.now()\n",
    "    end = start + datetime.timedelta(seconds=whileSeconds)\n",
    "    while True:\n",
    "        driver.execute_script('window.scrollTo(0, document.body.scrollHeight);')\n",
    "        time.sleep(1)\n",
    "        if datetime.datetime.now() > end:\n",
    "            break"
   ]
  },
  {
   "cell_type": "code",
   "execution_count": 94,
   "id": "738315b0",
   "metadata": {},
   "outputs": [],
   "source": [
    "doScrollDown(3)"
   ]
  },
  {
   "cell_type": "code",
   "execution_count": null,
   "id": "57d9fa75",
   "metadata": {},
   "outputs": [],
   "source": []
  }
 ],
 "metadata": {
  "kernelspec": {
   "display_name": "Python 3",
   "language": "python",
   "name": "python3"
  },
  "language_info": {
   "codemirror_mode": {
    "name": "ipython",
    "version": 3
   },
   "file_extension": ".py",
   "mimetype": "text/x-python",
   "name": "python",
   "nbconvert_exporter": "python",
   "pygments_lexer": "ipython3",
   "version": "3.8.5"
  }
 },
 "nbformat": 4,
 "nbformat_minor": 5
}
