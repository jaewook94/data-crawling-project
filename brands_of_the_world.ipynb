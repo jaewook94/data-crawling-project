{
 "cells": [
  {
   "cell_type": "code",
   "execution_count": 1,
   "id": "3265ad88",
   "metadata": {},
   "outputs": [],
   "source": [
    "from selenium import webdriver\n",
    "from selenium.webdriver.common.keys import Keys\n",
    "import time\n",
    "import pyperclip\n",
    "import urllib.request\n",
    "import numpy as np\n",
    "import matplotlib.pyplot as plt\n",
    "import pandas as pd\n",
    "import os\n",
    "from pprint import pprint"
   ]
  },
  {
   "cell_type": "code",
   "execution_count": 2,
   "id": "cae45230",
   "metadata": {},
   "outputs": [],
   "source": [
    "path = r'C:\\Users\\재욱\\Downloads\\chromedriver.exe'\n",
    "driver = webdriver.Chrome(path)\n",
    "search_url = \"https://www.brandsoftheworld.com/logos/countries/ca\"\n",
    "driver.get(search_url)"
   ]
  },
  {
   "cell_type": "code",
   "execution_count": null,
   "id": "a1f7d57a",
   "metadata": {},
   "outputs": [],
   "source": [
    "xpath = '//*[@id=\"primaryInner\"]/div/div[1]'\n",
    "division = driver.find_element_by_xpath(xpath)\n",
    "name_list = division.find_elements_by_tag_name('a')\n",
    "print(division.text)"
   ]
  }
 ],
 "metadata": {
  "kernelspec": {
   "display_name": "Python 3",
   "language": "python",
   "name": "python3"
  },
  "language_info": {
   "codemirror_mode": {
    "name": "ipython",
    "version": 3
   },
   "file_extension": ".py",
   "mimetype": "text/x-python",
   "name": "python",
   "nbconvert_exporter": "python",
   "pygments_lexer": "ipython3",
   "version": "3.8.5"
  }
 },
 "nbformat": 4,
 "nbformat_minor": 5
}
