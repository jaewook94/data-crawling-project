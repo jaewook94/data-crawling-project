{
 "cells": [
  {
   "cell_type": "code",
   "execution_count": 29,
   "id": "537c5a2d",
   "metadata": {},
   "outputs": [],
   "source": [
    "from selenium import webdriver\n",
    "from selenium.webdriver.common.keys import Keys\n",
    "import time\n",
    "import pyperclip\n",
    "import urllib.request\n",
    "import numpy as np\n",
    "import matplotlib.pyplot as plt\n",
    "import pandas as pd\n",
    "import os\n",
    "from pprint import pprint\n",
    "from tqdm import tqdm, notebook"
   ]
  },
  {
   "cell_type": "code",
   "execution_count": 40,
   "id": "811647c6",
   "metadata": {},
   "outputs": [],
   "source": [
    "path = r'C:\\Users\\재욱\\Downloads\\chromedriver.exe'\n",
    "driver = webdriver.Chrome(path)\n",
    "driver.implicitly_wait(3)\n",
    "country_url = \"https://www.brandsoftheworld.com/logos/countries\" \n",
    "driver.get(country_url)\n",
    "\n",
    "xpath = '//*[@id=\"primaryInner\"]/div/ul'\n",
    "division = driver.find_element_by_xpath(xpath)\n",
    "country_list = division.find_elements_by_tag_name('a') # List형\n",
    "\n",
    "country_url_list = []\n",
    "for country_url in country_list:\n",
    "    country_url_list.append(country_url.get_attribute('href'))"
   ]
  },
  {
   "cell_type": "markdown",
   "id": "2b91ddb5",
   "metadata": {},
   "source": [
    "## Old Code"
   ]
  },
  {
   "cell_type": "code",
   "execution_count": 7,
   "id": "51a6e5ff",
   "metadata": {
    "scrolled": true
   },
   "outputs": [
    {
     "name": "stdout",
     "output_type": "stream",
     "text": [
      "\n"
     ]
    }
   ],
   "source": [
    "XPATH_COUNTRY_TABLE = '//*[@id=\"primaryInner\"]/div/div[1]'\n",
    "XPATH_COUNTRY_NAME = '//*[@id=\"primary\"]/h1/span'\n",
    "for country_path in country_url_list:\n",
    "    page_num = 0\n",
    "    while True:\n",
    "        driver.get(country_path + '?page=' + str(page_num))\n",
    "        division = driver.find_element_by_xpath(XPATH_COUNTRY_TABLE) # 빼면 안됨\n",
    "        name_list = division.find_elements_by_tag_name('li') # List형\n",
    "        image_url_list = division.find_elements_by_tag_name('img') # List형\n",
    "        img_folder_path = './brands_of_the_world/' + division.text + '_company_logo/'\n",
    "\n",
    "        company_name_list = []\n",
    "        for name in name_list:\n",
    "            company_name_list.append(name.text)\n",
    "\n",
    "        # if company_name_list == ['« first', '‹ previous', '1', '2']:\n",
    "        if len(image_url_list) == 0:\n",
    "            break\n",
    "        page_num +=1\n",
    "\n",
    "        i = 0\n",
    "        for image_url in image_url_list:\n",
    "            try:\n",
    "                with urllib.request.urlopen(image_url.get_attribute('src')) as f:\n",
    "                    with open(img_folder_path + company_name_list[i] +'.jpg','wb') as h:\n",
    "                        image = f.read()\n",
    "                        h.write(image)\n",
    "            except Exception as e:\n",
    "                print(e)\n",
    "            i+=1"
   ]
  },
  {
   "cell_type": "markdown",
   "id": "e806291a",
   "metadata": {},
   "source": [
    "## New Code (joowon)"
   ]
  },
  {
   "cell_type": "code",
   "execution_count": 45,
   "id": "e8dd724a",
   "metadata": {},
   "outputs": [
    {
     "data": {
      "application/vnd.jupyter.widget-view+json": {
       "model_id": "c8f5ef4690634e36b5be7b77f6fc6ee7",
       "version_major": 2,
       "version_minor": 0
      },
      "text/plain": [
       "iterate range 100:   0%|          | 0/240 [00:00<?, ?it/s]"
      ]
     },
     "metadata": {},
     "output_type": "display_data"
    },
    {
     "name": "stdout",
     "output_type": "stream",
     "text": [
      "1 번째 나라 : [Afghanistan]\n",
      "2 번째 나라 : [Albania]\n",
      "3 번째 나라 : [Algeria]\n",
      "4 번째 나라 : [American Samoa]\n",
      "5 번째 나라 : [Andorra]\n",
      "6 번째 나라 : [Angola]\n",
      "7 번째 나라 : [Anguilla]\n",
      "8 번째 나라 : [Antarctica]\n",
      "9 번째 나라 : [Antigua and Barbuda]\n",
      "10 번째 나라 : [Argentina]\n",
      "HTTP Error 403: Forbidden\n",
      "Images of page number[0] had saved completely!\n",
      "Images of page number[1] had saved completely!\n",
      "Images of page number[2] had saved completely!\n",
      "Images of page number[3] had saved completely!\n",
      "KeyboardInterrupt\n"
     ]
    }
   ],
   "source": [
    "try:\n",
    "    XPATH_COUNTRY_TABLE = '//*[@id=\"primaryInner\"]/div/div[1]'\n",
    "    XPATH_COUNTRY_NAME = '//*[@id=\"primary\"]/h1/span'\n",
    "    COUNTRY_NUMBER = 0\n",
    "    for country_path in notebook.tqdm(country_url_list, desc='iterate range 100'):\n",
    "        driver.get(f'{country_path}?page=0')\n",
    "        driver.implicitly_wait(2)\n",
    "        country_name = driver.find_element_by_xpath(XPATH_COUNTRY_NAME)\n",
    "        img_folder_path = './brands_of_the_world/' + country_name.text + '_company_logo/'\n",
    "        COUNTRY_NUMBER +=1\n",
    "        print('%d 번째 나라 : [%s]' %(COUNTRY_NUMBER,country_name.text))\n",
    "        if os.path.isdir(img_folder_path) is True:\n",
    "            continue\n",
    "        os.makedirs(img_folder_path, exist_ok=True)\n",
    "\n",
    "        page_num = 0\n",
    "        while True:\n",
    "            # driver.get(country_path + '?page=' + str(page_num))\n",
    "            driver.get(f'{country_path}?page={page_num}') #f string \n",
    "            \n",
    "            division = driver.find_element_by_xpath(XPATH_COUNTRY_TABLE) # 빼면 안됨\n",
    "            name_list = division.find_elements_by_tag_name('li') # List형\n",
    "            image_url_list = division.find_elements_by_tag_name('img') # List형\n",
    "\n",
    "            if len(image_url_list) == 0: # ['« first', '‹ previous', '1', '2']\n",
    "                break\n",
    "\n",
    "            for i, image_url in enumerate(image_url_list):\n",
    "                try:\n",
    "                    with urllib.request.urlopen(image_url.get_attribute('src')) as f:\n",
    "                        with open(img_folder_path + name_list[i].text +'.jpg','wb') as h:\n",
    "                            image = f.read()\n",
    "                            h.write(image)\n",
    "                except Exception as e:\n",
    "                    print(e)\n",
    "            \n",
    "            print('Images of page number[%d] had saved completely!' %(page_num))\n",
    "            page_num +=1\n",
    "            \n",
    "except Exception as e:\n",
    "    print(e)\n",
    "except KeyboardInterrupt:\n",
    "    print(\"KeyboardInterrupt\")\n",
    "except:\n",
    "    print('Other error')"
   ]
  },
  {
   "cell_type": "code",
   "execution_count": null,
   "id": "4dedc14a",
   "metadata": {},
   "outputs": [],
   "source": []
  }
 ],
 "metadata": {
  "kernelspec": {
   "display_name": "Python 3",
   "language": "python",
   "name": "python3"
  },
  "language_info": {
   "codemirror_mode": {
    "name": "ipython",
    "version": 3
   },
   "file_extension": ".py",
   "mimetype": "text/x-python",
   "name": "python",
   "nbconvert_exporter": "python",
   "pygments_lexer": "ipython3",
   "version": "3.8.5"
  }
 },
 "nbformat": 4,
 "nbformat_minor": 5
}
