{
 "cells": [
  {
   "cell_type": "code",
   "execution_count": 1,
   "id": "697251c5",
   "metadata": {},
   "outputs": [],
   "source": [
    "from selenium import webdriver\n",
    "from selenium.webdriver.common.keys import Keys\n",
    "import time\n",
    "import pyperclip\n",
    "import urllib.request\n",
    "import numpy as np\n",
    "import matplotlib.pyplot as plt\n",
    "import pandas as pd\n",
    "import os\n",
    "from pprint import pprint\n",
    "from tqdm import tqdm, notebook\n",
    "import json\n",
    "from selenium.webdriver.support.ui import WebDriverWait\n",
    "from selenium.webdriver.support import expected_conditions as EC\n",
    "from selenium.webdriver.common.by import By\n",
    "import requests\n",
    "import shutil"
   ]
  },
  {
   "cell_type": "code",
   "execution_count": 3,
   "id": "2d7b27b8",
   "metadata": {},
   "outputs": [],
   "source": [
    "url = 'https://d1yjjnpx0p53s8.cloudfront.net/styles/logo-thumbnail/s3/062021/js_saoura_logo.png?B0jBkLfGvNhZCFD6mUFqBD9xJWsHQScm&itok=hzUDFB_e'"
   ]
  },
  {
   "cell_type": "code",
   "execution_count": 4,
   "id": "a45a0930",
   "metadata": {},
   "outputs": [
    {
     "data": {
      "text/plain": [
       "'https://d1yjjnpx0p53s8.cloudfront.net/styles/logo-thumbnail/s3/062021/js_saoura_logo.png?B0jBkLfGvNhZCFD6mUFqBD9xJWsHQScm&itok=hzUDFB_e'"
      ]
     },
     "execution_count": 4,
     "metadata": {},
     "output_type": "execute_result"
    }
   ],
   "source": [
    "url"
   ]
  },
  {
   "cell_type": "code",
   "execution_count": 5,
   "id": "be8e5825",
   "metadata": {},
   "outputs": [],
   "source": [
    "response = requests.get(url, stream=True)\n",
    "with open('img.png', 'wb') as out_file:\n",
    "    shutil.copyfileobj(response.raw, out_file)\n",
    "del response"
   ]
  },
  {
   "cell_type": "code",
   "execution_count": null,
   "id": "24ad2e02",
   "metadata": {},
   "outputs": [],
   "source": []
  }
 ],
 "metadata": {
  "kernelspec": {
   "display_name": "Python 3",
   "language": "python",
   "name": "python3"
  },
  "language_info": {
   "codemirror_mode": {
    "name": "ipython",
    "version": 3
   },
   "file_extension": ".py",
   "mimetype": "text/x-python",
   "name": "python",
   "nbconvert_exporter": "python",
   "pygments_lexer": "ipython3",
   "version": "3.8.5"
  }
 },
 "nbformat": 4,
 "nbformat_minor": 5
}
