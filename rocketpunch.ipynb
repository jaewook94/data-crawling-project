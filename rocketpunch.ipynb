{
 "cells": [
  {
   "cell_type": "code",
   "execution_count": 1,
   "id": "d89af7de",
   "metadata": {},
   "outputs": [],
   "source": [
    "from selenium import webdriver\n",
    "from selenium.webdriver.common.keys import Keys\n",
    "import time\n",
    "import pyperclip\n",
    "import numpy as np\n",
    "import matplotlib.pyplot as plt\n",
    "import pandas as pd\n",
    "import os\n",
    "from pprint import pprint\n",
    "from tqdm import tqdm, notebook\n",
    "import json\n",
    "from selenium.webdriver.support.ui import WebDriverWait\n",
    "from selenium.webdriver.support import expected_conditions as EC\n",
    "from selenium.webdriver.common.by import By\n",
    "import requests\n",
    "import shutil"
   ]
  },
  {
   "cell_type": "code",
   "execution_count": null,
   "id": "0c7b29b2",
   "metadata": {},
   "outputs": [],
   "source": [
    "path = r'C:\\Users\\재욱\\Downloads\\chromedriver.exe'\n",
    "driver = webdriver.Chrome(path)\n",
    "driver.implicitly_wait(2)\n",
    "\n",
    "companies_url = \"https://www.rocketpunch.com/companies\" \n",
    "driver.get(companies_url)\n",
    "\n",
    "xpath = '//*[@id=\"primaryInner\"]/div/ul'\n",
    "division = driver.find_element_by_xpath(xpath)\n",
    "country_list = division.find_elements_by_tag_name('a') # List형\n",
    "\n",
    "country_url_list = []\n",
    "for country_url in country_list:\n",
    "    country_url_list.append(country_url.get_attribute('href'))"
   ]
  },
  {
   "cell_type": "code",
   "execution_count": null,
   "id": "5bc6b878",
   "metadata": {},
   "outputs": [],
   "source": [
    "def save_images(country_name, image_url_list, name_list):\n",
    "    \n",
    "    img_folder_path = f'./brands_of_the_world/{country_name}_company_logo/'    \n",
    "    os.makedirs(img_folder_path, exist_ok=True)\n",
    "    \n",
    "    for i, image_url in enumerate(image_url_list):\n",
    "        try:\n",
    "            response = requests.get(image_url.get_attribute('src'), stream=True)\n",
    "            with open(img_folder_path + name_list[i].text +'.jpg','wb') as out_file:\n",
    "                shutil.copyfileobj(response.raw, out_file)\n",
    "                    \n",
    "        except Exception as e:\n",
    "            print(e)"
   ]
  },
  {
   "cell_type": "code",
   "execution_count": null,
   "id": "a276011c",
   "metadata": {},
   "outputs": [],
   "source": [
    "def read_json(file_path):\n",
    "    with open(file_path, \"r\") as fp:\n",
    "        data = json.loads(fp.read())\n",
    "    return data\n",
    "\n",
    "def write_json(data, file_path):\n",
    "    with open(file_path, \"w\") as fp:\n",
    "        json.dump(data, fp)\n",
    "        \n",
    "# 보통 file pointer -> fp 사용"
   ]
  }
 ],
 "metadata": {
  "kernelspec": {
   "display_name": "Python 3",
   "language": "python",
   "name": "python3"
  },
  "language_info": {
   "codemirror_mode": {
    "name": "ipython",
    "version": 3
   },
   "file_extension": ".py",
   "mimetype": "text/x-python",
   "name": "python",
   "nbconvert_exporter": "python",
   "pygments_lexer": "ipython3",
   "version": "3.8.5"
  }
 },
 "nbformat": 4,
 "nbformat_minor": 5
}
