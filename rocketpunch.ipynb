{
 "cells": [
  {
   "cell_type": "code",
   "execution_count": 2,
   "id": "f194ea61",
   "metadata": {},
   "outputs": [],
   "source": [
    "from selenium import webdriver\n",
    "from selenium.webdriver.common.keys import Keys\n",
    "import time\n",
    "import pyperclip\n",
    "import numpy as np\n",
    "import matplotlib.pyplot as plt\n",
    "import pandas as pd\n",
    "import os\n",
    "from pprint import pprint\n",
    "from tqdm import tqdm, notebook\n",
    "import json\n",
    "from selenium.webdriver.support.ui import WebDriverWait\n",
    "from selenium.webdriver.support import expected_conditions as EC\n",
    "from selenium.webdriver.common.by import By\n",
    "import requests\n",
    "import shutil"
   ]
  },
  {
   "cell_type": "code",
   "execution_count": 3,
   "id": "36f3a9f9",
   "metadata": {
    "scrolled": true
   },
   "outputs": [
    {
     "name": "stdout",
     "output_type": "stream",
     "text": [
      "[<selenium.webdriver.remote.webelement.WebElement (session=\"6251e6cbf4e69077c4cc73ff7d2ebed4\", element=\"ed358e00-7de4-4ec2-b02f-2a91e2731e5a\")>, <selenium.webdriver.remote.webelement.WebElement (session=\"6251e6cbf4e69077c4cc73ff7d2ebed4\", element=\"108d3270-4eb2-4f40-a938-7ef60aa6d7e2\")>, <selenium.webdriver.remote.webelement.WebElement (session=\"6251e6cbf4e69077c4cc73ff7d2ebed4\", element=\"d5c1c7ff-febc-41a3-b751-0262ce8b5361\")>, <selenium.webdriver.remote.webelement.WebElement (session=\"6251e6cbf4e69077c4cc73ff7d2ebed4\", element=\"d76826ed-35a3-426c-8204-ec2cf04b88dc\")>, <selenium.webdriver.remote.webelement.WebElement (session=\"6251e6cbf4e69077c4cc73ff7d2ebed4\", element=\"09c10955-6cb3-4be3-bbf2-63f316b1e12b\")>, <selenium.webdriver.remote.webelement.WebElement (session=\"6251e6cbf4e69077c4cc73ff7d2ebed4\", element=\"5a49037f-ac03-4e25-b15d-8944441fddf5\")>, <selenium.webdriver.remote.webelement.WebElement (session=\"6251e6cbf4e69077c4cc73ff7d2ebed4\", element=\"6527f11a-e14f-45f3-83ef-94efb6aa6fd2\")>, <selenium.webdriver.remote.webelement.WebElement (session=\"6251e6cbf4e69077c4cc73ff7d2ebed4\", element=\"6f7ebd6c-6d6f-4e36-8e2a-5763eb626460\")>, <selenium.webdriver.remote.webelement.WebElement (session=\"6251e6cbf4e69077c4cc73ff7d2ebed4\", element=\"0ea8eca7-991a-4ae1-bf72-95dc87a1390e\")>, <selenium.webdriver.remote.webelement.WebElement (session=\"6251e6cbf4e69077c4cc73ff7d2ebed4\", element=\"445b32d8-eccb-4bfa-8489-0d25f43fe18a\")>, <selenium.webdriver.remote.webelement.WebElement (session=\"6251e6cbf4e69077c4cc73ff7d2ebed4\", element=\"26258885-8b72-4ab8-855e-91fe1708a13d\")>, <selenium.webdriver.remote.webelement.WebElement (session=\"6251e6cbf4e69077c4cc73ff7d2ebed4\", element=\"b9377881-88d4-4dc9-8633-2f441267b352\")>, <selenium.webdriver.remote.webelement.WebElement (session=\"6251e6cbf4e69077c4cc73ff7d2ebed4\", element=\"6307dfbe-b897-4816-9889-4f50110d211f\")>, <selenium.webdriver.remote.webelement.WebElement (session=\"6251e6cbf4e69077c4cc73ff7d2ebed4\", element=\"d92b797d-3639-420d-a4e7-54a0f0886736\")>, <selenium.webdriver.remote.webelement.WebElement (session=\"6251e6cbf4e69077c4cc73ff7d2ebed4\", element=\"e3a7dc44-10c3-4f6d-af04-cd8dfb2f6c94\")>, <selenium.webdriver.remote.webelement.WebElement (session=\"6251e6cbf4e69077c4cc73ff7d2ebed4\", element=\"95f12a28-7079-4004-b9eb-5d4bac36807e\")>, <selenium.webdriver.remote.webelement.WebElement (session=\"6251e6cbf4e69077c4cc73ff7d2ebed4\", element=\"27ff40d7-5e3a-47df-aaf6-b0164cf0786a\")>, <selenium.webdriver.remote.webelement.WebElement (session=\"6251e6cbf4e69077c4cc73ff7d2ebed4\", element=\"5905544e-f0e7-4b5c-b436-95323dc823e0\")>, <selenium.webdriver.remote.webelement.WebElement (session=\"6251e6cbf4e69077c4cc73ff7d2ebed4\", element=\"f2f14fbb-6b85-4cd3-89ce-12c8d46261de\")>, <selenium.webdriver.remote.webelement.WebElement (session=\"6251e6cbf4e69077c4cc73ff7d2ebed4\", element=\"0b9e020a-26b1-4ec0-99eb-a8d61f828812\")>, <selenium.webdriver.remote.webelement.WebElement (session=\"6251e6cbf4e69077c4cc73ff7d2ebed4\", element=\"da2cd3b0-129e-4ca0-ac4a-634511517346\")>]\n",
      "[<selenium.webdriver.remote.webelement.WebElement (session=\"6251e6cbf4e69077c4cc73ff7d2ebed4\", element=\"c37de12d-d30a-4bb4-809b-2bae199be3ce\")>, <selenium.webdriver.remote.webelement.WebElement (session=\"6251e6cbf4e69077c4cc73ff7d2ebed4\", element=\"3026e7e8-3e6e-4c80-9c20-68af3aea3c3f\")>, <selenium.webdriver.remote.webelement.WebElement (session=\"6251e6cbf4e69077c4cc73ff7d2ebed4\", element=\"c6279447-c3ae-48e5-b643-19fffc330934\")>, <selenium.webdriver.remote.webelement.WebElement (session=\"6251e6cbf4e69077c4cc73ff7d2ebed4\", element=\"1e26e169-d749-40d2-b3f3-92e6cb917582\")>, <selenium.webdriver.remote.webelement.WebElement (session=\"6251e6cbf4e69077c4cc73ff7d2ebed4\", element=\"d1089555-25ea-4fbe-83a9-d67d343abf04\")>, <selenium.webdriver.remote.webelement.WebElement (session=\"6251e6cbf4e69077c4cc73ff7d2ebed4\", element=\"6804a7cb-0e92-4bae-804a-d7b8a9d05b7a\")>, <selenium.webdriver.remote.webelement.WebElement (session=\"6251e6cbf4e69077c4cc73ff7d2ebed4\", element=\"d67024a4-103e-4476-ac46-e66dddf74423\")>, <selenium.webdriver.remote.webelement.WebElement (session=\"6251e6cbf4e69077c4cc73ff7d2ebed4\", element=\"f8d23230-34e2-42ed-9d6b-23bebb5428ba\")>, <selenium.webdriver.remote.webelement.WebElement (session=\"6251e6cbf4e69077c4cc73ff7d2ebed4\", element=\"16868ea0-b893-4bda-9383-a1803fbbd284\")>, <selenium.webdriver.remote.webelement.WebElement (session=\"6251e6cbf4e69077c4cc73ff7d2ebed4\", element=\"b46f93d3-284b-45ba-8d31-61a2d9492fff\")>, <selenium.webdriver.remote.webelement.WebElement (session=\"6251e6cbf4e69077c4cc73ff7d2ebed4\", element=\"d40148f5-3376-4192-81fb-762ede434f32\")>, <selenium.webdriver.remote.webelement.WebElement (session=\"6251e6cbf4e69077c4cc73ff7d2ebed4\", element=\"d0efd127-e815-4c67-ad59-4e4d6f3c3d3d\")>, <selenium.webdriver.remote.webelement.WebElement (session=\"6251e6cbf4e69077c4cc73ff7d2ebed4\", element=\"9a495f7b-47f3-45df-87b3-60c9b32db455\")>, <selenium.webdriver.remote.webelement.WebElement (session=\"6251e6cbf4e69077c4cc73ff7d2ebed4\", element=\"c151d7e2-4521-4352-a974-ffee45e1b927\")>, <selenium.webdriver.remote.webelement.WebElement (session=\"6251e6cbf4e69077c4cc73ff7d2ebed4\", element=\"5a6b94aa-2290-434a-9b9d-d85d060190bb\")>, <selenium.webdriver.remote.webelement.WebElement (session=\"6251e6cbf4e69077c4cc73ff7d2ebed4\", element=\"7cd409a8-e57c-4dac-bd9e-c82c8e0a0754\")>, <selenium.webdriver.remote.webelement.WebElement (session=\"6251e6cbf4e69077c4cc73ff7d2ebed4\", element=\"2094d798-18de-4ad2-aee0-4d5ee8d72891\")>, <selenium.webdriver.remote.webelement.WebElement (session=\"6251e6cbf4e69077c4cc73ff7d2ebed4\", element=\"360329c0-393c-4f39-86c4-c673c08f75ff\")>, <selenium.webdriver.remote.webelement.WebElement (session=\"6251e6cbf4e69077c4cc73ff7d2ebed4\", element=\"c2a5346f-3294-4c79-a630-5e04f0604af5\")>, <selenium.webdriver.remote.webelement.WebElement (session=\"6251e6cbf4e69077c4cc73ff7d2ebed4\", element=\"6fcf2fdc-4a78-4d59-9078-9d7c25c6e784\")>]\n"
     ]
    }
   ],
   "source": [
    "path = r'C:\\Users\\재욱\\Downloads\\chromedriver.exe'\n",
    "driver = webdriver.Chrome(path)\n",
    "driver.implicitly_wait(2)\n",
    "\n",
    "companies_url = \"https://www.rocketpunch.com/companies\" \n",
    "driver.get(companies_url)\n",
    "\n",
    "xpath = '//*[@id=\"company-list\"]'\n",
    "division = driver.find_element_by_xpath(xpath)\n",
    "company_img_list = division.find_elements_by_tag_name('img')\n",
    "company_name_list = division.find_elements_by_tag_name('strong')\n",
    "\n",
    "# country_url_list = []\n",
    "# for country_url in country_list:\n",
    "#     country_url_list.append(country_url.get_attribute('src'))\n",
    "\n",
    "print(company_img_list)\n",
    "print(company_name_list)\n",
    "\n",
    "//*[@id=\"company-list\"]/div[1]/div[2]/a/h4/strong\n",
    "//*[@id=\"company-list\"]/div[1]/div[1]/div/img"
   ]
  },
  {
   "cell_type": "code",
   "execution_count": null,
   "id": "32e57ffd",
   "metadata": {},
   "outputs": [],
   "source": [
    "def save_images(file_path, image_url_list, name_list):\n",
    "    \n",
    "    img_folder_path = f'./brands_of_the_world/{country_name}_company_logo/'    \n",
    "    os.makedirs(img_folder_path, exist_ok=True)\n",
    "    \n",
    "    for i, image_url in enumerate(image_url_list):\n",
    "        try:\n",
    "            response = requests.get(image_url.get_attribute('src'), stream=True)\n",
    "            with open(img_folder_path + name_list[i].text +'.jpg','wb') as out_file:\n",
    "                shutil.copyfileobj(response.raw, out_file)\n",
    "                    \n",
    "        except Exception as e:\n",
    "            print(e)"
   ]
  },
  {
   "cell_type": "code",
   "execution_count": null,
   "id": "093c1298",
   "metadata": {},
   "outputs": [],
   "source": [
    "def read_json(file_path):\n",
    "    with open(file_path, \"r\") as fp:\n",
    "        data = json.loads(fp.read())\n",
    "    return data\n",
    "\n",
    "def write_json(data, file_path):\n",
    "    with open(file_path, \"w\") as fp:\n",
    "        json.dump(data, fp)\n",
    "        \n",
    "# 보통 file pointer -> fp 사용"
   ]
  },
  {
   "cell_type": "code",
   "execution_count": null,
   "id": "120d0af6",
   "metadata": {},
   "outputs": [],
   "source": [
    "# 빈 딕셔너리 (dict_status) 선언 후 JSON 파일 먼저 만들기\n",
    "try:\n",
    "    XPATH_COUNTRY_TABLE = '//*[@id=\"primaryInner\"]/div/div[1]'\n",
    "    XPATH_COUNTRY_NAME = '//*[@id=\"primary\"]/h1/span'\n",
    "    print(\"지난 status 상황 : \")\n",
    "    dict_status = read_json(\"brands_of_the_world.json\")\n",
    "    pprint(dict_status)\n",
    "    print('+-----------------------------------------------------------------+')\n",
    "\n",
    "    # COUNTRY_NUMBER 대신 enumerate를 쓰는 연습\n",
    "    for idx , country_path in enumerate(notebook.tqdm(country_url_list, desc='iterate range 100')):\n",
    "        driver.get(country_path)\n",
    "        country_name = driver.find_element_by_xpath(XPATH_COUNTRY_NAME).text\n",
    "        \n",
    "        # 해당 국가의 key-value가 없을 경우. (해당 국가 페이지 처음 방문)\n",
    "        if country_name not in dict_status.keys():\n",
    "            dict_status[country_name] = {\"status\" : 'NOT DONE', \"latest_page\" : -1} # 현재 국가 save status 초기화\n",
    "            page_num = 0\n",
    "        # 해당 국가의 key-value가 있을 경우. DONE이든 NOT DONE이든 (해당 국가 페이지 방문한 적 있음)\n",
    "        else: \n",
    "            page_num = dict_status[country_name][\"latest_page\"]\n",
    "            \n",
    "        # 해당 국가의 value의 status key가 'NOT DONE'일 경우(해당 국가 페이지 쭉 방문해야함.)    \n",
    "        if dict_status[country_name][\"status\"] != 'DONE':   \n",
    "            \n",
    "            while True:\n",
    "                driver.get(f'{country_path}?page={page_num}') #f string 사용!\n",
    "                division = driver.find_element_by_xpath(XPATH_COUNTRY_TABLE)\n",
    "                name_list = division.find_elements_by_tag_name('li') # List형\n",
    "                image_url_list = division.find_elements_by_tag_name('img') # 이미지 URL\n",
    "                \n",
    "                if len(image_url_list) == 0:\n",
    "                    break\n",
    "                    \n",
    "                save_images(country_name, image_url_list, name_list)\n",
    "                \n",
    "                print(f\"{country_name}의 {page_num}번째 page 이미지 저장 완료\")\n",
    "                dict_status[country_name][\"latest_page\"] +=1\n",
    "                page_num +=1\n",
    "                    \n",
    "            dict_status[country_name][\"status\"] = 'DONE'\n",
    "            write_json(dict_status, \"brands_of_the_world.json\")\n",
    "            pprint(dict_status)\n",
    "            print(f'{idx}번째 나라 {country_name}의 모든 이미지 저장 완료')\n",
    "            print('+-----------------------------------------------------------------+')\n",
    "         \n",
    "except Exception as e:\n",
    "    print(e)\n",
    "except KeyboardInterrupt:\n",
    "    print(\"[KeyboardInterrupt] 현재까지의 status :\")\n",
    "    with open(\"brands_of_the_world.json\", \"w\") as upload_file:\n",
    "        json.dump(dict_status, upload_file)\n",
    "    pprint(dict_status)\n",
    "    print(\"\\n\")\n",
    "except:\n",
    "    print('Other error')"
   ]
  }
 ],
 "metadata": {
  "kernelspec": {
   "display_name": "Python 3",
   "language": "python",
   "name": "python3"
  },
  "language_info": {
   "codemirror_mode": {
    "name": "ipython",
    "version": 3
   },
   "file_extension": ".py",
   "mimetype": "text/x-python",
   "name": "python",
   "nbconvert_exporter": "python",
   "pygments_lexer": "ipython3",
   "version": "3.8.5"
  }
 },
 "nbformat": 4,
 "nbformat_minor": 5
}
