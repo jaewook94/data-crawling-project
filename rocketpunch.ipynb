{
 "cells": [
  {
   "cell_type": "code",
   "execution_count": 2,
   "id": "f194ea61",
   "metadata": {},
   "outputs": [],
   "source": [
    "from selenium import webdriver\n",
    "from selenium.webdriver.common.keys import Keys\n",
    "import time\n",
    "import pyperclip\n",
    "import numpy as np\n",
    "import matplotlib.pyplot as plt\n",
    "import pandas as pd\n",
    "import os\n",
    "from pprint import pprint\n",
    "from tqdm import tqdm, notebook\n",
    "import json\n",
    "from selenium.webdriver.support.ui import WebDriverWait\n",
    "from selenium.webdriver.support import expected_conditions as EC\n",
    "from selenium.webdriver.common.by import By\n",
    "import requests\n",
    "import shutil"
   ]
  },
  {
   "cell_type": "code",
   "execution_count": 13,
   "id": "36f3a9f9",
   "metadata": {
    "scrolled": true
   },
   "outputs": [
    {
     "name": "stdout",
     "output_type": "stream",
     "text": [
      "https://image.rocketpunch.com/company/152071/jusighoesa-myujeulri_logo_1626920089.png?s=100x100&t=inside\n",
      "주식회사 뮤즐리\n"
     ]
    }
   ],
   "source": [
    "path = r'C:\\Users\\재욱\\Downloads\\chromedriver.exe'\n",
    "driver = webdriver.Chrome(path)\n",
    "driver.implicitly_wait(2)\n",
    "\n",
    "companies_url = \"https://www.rocketpunch.com/companies\" \n",
    "driver.get(companies_url)\n",
    "\n",
    "xpath = '//*[@id=\"company-list\"]'\n",
    "division = driver.find_element_by_xpath(xpath)\n",
    "company_image_url_list = division.find_elements_by_tag_name('img')\n",
    "company_name_list = division.find_elements_by_tag_name('strong')\n",
    "\n",
    "# country_url_list = []\n",
    "# for country_url in country_list:\n",
    "#     country_url_list.append(country_url.get_attribute('src'))\n",
    "\n",
    "print(company_image_url_list[0].get_attribute('src'))\n",
    "print(company_name_list[0].text)\n",
    "\n",
    "# //*[@id=\"company-list\"]/div[1]/div[1]/div/img"
   ]
  },
  {
   "cell_type": "code",
   "execution_count": null,
   "id": "120d0af6",
   "metadata": {},
   "outputs": [],
   "source": [
    "try:\n",
    "    XPATH = '//*[@id=\"company-list\"]'\n",
    "    XPATH_COMPANY_NAME = '//*[@id=\"company-list\"]/div[1]/div[2]/a/h4/strong'\n",
    "    dict_status = read_json(\"rocket_punch.json\")\n",
    "    pprint(dict_status)\n",
    "    page_num = 0\n",
    "    \n",
    "    while True:\n",
    "        driver.get(f'{country_path}?page={page_num}')\n",
    "        division = driver.find_element_by_xpath(XPATH)\n",
    "        company_image_url_list = division.find_elements_by_tag_name('img')\n",
    "        company_name_list = division.find_elements_by_tag_name('strong')\n",
    "        \n",
    "        for idx, company_image_url in enumerate(notebook.tqdm(company_image_url_list, desc='iterate range 100')):\n",
    "            company_image_list = []\n",
    "            company_image_list.append(company_image_url.get_attribute('src'))\n",
    "            \n",
    "            company_name_list[idx].text\n",
    "            \n",
    "            company_image_list\n",
    "            if len(image_url_list) == 0:\n",
    "                break\n",
    "\n",
    "            save_images(\"./rocket_punch/\", company_image_list, name_list)\n",
    "\n",
    "            print(f\"{country_name}의 {page_num}번째 page 이미지 저장 완료\")\n",
    "            dict_status[country_name][\"latest_page\"] +=1\n",
    "            page_num +=1\n",
    "\n",
    "        dict_status[country_name][\"status\"] = 'DONE'\n",
    "        write_json(dict_status, \"brands_of_the_world.json\")\n",
    "        pprint(dict_status)\n",
    "        print(f'{idx}번째 나라 {country_name}의 모든 이미지 저장 완료')\n",
    "        print('+-----------------------------------------------------------------+')\n",
    "         \n",
    "except Exception as e:\n",
    "    print(e)\n",
    "except KeyboardInterrupt:\n",
    "    print(\"[KeyboardInterrupt] 현재까지의 status :\")\n",
    "    with open(\"brands_of_the_world.json\", \"w\") as upload_file:\n",
    "        json.dump(dict_status, upload_file)\n",
    "    pprint(dict_status)\n",
    "    print(\"\\n\")"
   ]
  },
  {
   "cell_type": "code",
   "execution_count": 4,
   "id": "32e57ffd",
   "metadata": {},
   "outputs": [],
   "source": [
    "def save_images(file_path, image_url_list, name_list):\n",
    "    \n",
    "    img_folder_path = file_path    \n",
    "    os.makedirs(img_folder_path, exist_ok=True)\n",
    "    \n",
    "    for i, image_url in enumerate(image_url_list):\n",
    "        try:\n",
    "            response = requests.get(image_url.get_attribute('src'), stream=True)\n",
    "            with open(img_folder_path + name_list[i].text +'.jpg','wb') as out_file:\n",
    "                shutil.copyfileobj(response.raw, out_file)\n",
    "                    \n",
    "        except Exception as e:\n",
    "            print(e)"
   ]
  },
  {
   "cell_type": "code",
   "execution_count": 5,
   "id": "093c1298",
   "metadata": {},
   "outputs": [],
   "source": [
    "def read_json(file_path):\n",
    "    with open(file_path, \"r\") as fp:\n",
    "        data = json.loads(fp.read())\n",
    "    return data\n",
    "\n",
    "def write_json(data, file_path):\n",
    "    with open(file_path, \"w\") as fp:\n",
    "        json.dump(data, fp)"
   ]
  }
 ],
 "metadata": {
  "kernelspec": {
   "display_name": "Python 3",
   "language": "python",
   "name": "python3"
  },
  "language_info": {
   "codemirror_mode": {
    "name": "ipython",
    "version": 3
   },
   "file_extension": ".py",
   "mimetype": "text/x-python",
   "name": "python",
   "nbconvert_exporter": "python",
   "pygments_lexer": "ipython3",
   "version": "3.8.5"
  }
 },
 "nbformat": 4,
 "nbformat_minor": 5
}
