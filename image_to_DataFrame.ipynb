{
 "cells": [
  {
   "cell_type": "code",
   "execution_count": 1,
   "id": "03619d99",
   "metadata": {},
   "outputs": [],
   "source": [
    "from selenium import webdriver\n",
    "from selenium.webdriver.common.keys import Keys\n",
    "import time\n",
    "import pyperclip\n",
    "import urllib.request\n",
    "import numpy as np\n",
    "import pandas as pd\n",
    "import matplotlib.pyplot as plt"
   ]
  },
  {
   "cell_type": "code",
   "execution_count": 2,
   "id": "f3542a3e",
   "metadata": {},
   "outputs": [],
   "source": [
    "path = '/Users/재욱/Downloads/chromedriver'\n",
    "driver = webdriver.Chrome(path)\n",
    "\n",
    "driver.get('https://www.naver.com/')\n",
    "time.sleep(1)\n",
    "\n",
    "xpath = '//a[@class=\"link_login\"]'\n",
    "xpath_id = '//input[@id=\"id\"]'\n",
    "xpath_pw = '//input[@id=\"pw\"]'\n",
    "xpath_login = '//input[@id=\"log.login\"]' \n",
    "\n",
    "my_id = 'dlsdj132'\n",
    "my_pw = 'qkekrkwk132'\n",
    "\n",
    "# 로그인 클릭\n",
    "driver.find_element_by_xpath(xpath).click()\n",
    "# id 복사 및 붙여넣기\n",
    "pyperclip.copy(my_id)\n",
    "driver.find_element_by_xpath(xpath_id).send_keys(Keys.CONTROL, 'v')\n",
    "# pw 복사 및 붙여넣기\n",
    "pyperclip.copy(my_pw)\n",
    "driver.find_element_by_xpath(xpath_pw).send_keys(Keys.CONTROL, 'v')\n",
    "# 로그인 클릭\n",
    "driver.find_element_by_xpath(xpath_login).click()\n",
    "time.sleep(1)"
   ]
  },
  {
   "cell_type": "code",
   "execution_count": 3,
   "id": "46e14a64",
   "metadata": {},
   "outputs": [],
   "source": [
    "driver.get('https://order.pay.naver.com/home')"
   ]
  },
  {
   "cell_type": "code",
   "execution_count": 4,
   "id": "5c433406",
   "metadata": {},
   "outputs": [
    {
     "name": "stdout",
     "output_type": "stream",
     "text": [
      "쫄깃단무지1kg\n",
      "15\n"
     ]
    }
   ],
   "source": [
    "xpath_item = '//*[@id=\"_listContentArea\"]'\n",
    "division = driver.find_element_by_xpath(xpath_item)\n",
    "img_list = division.find_elements_by_tag_name('img')\n",
    "item_list = division.find_elements_by_class_name('name')\n",
    "print(item_list[0].text)\n",
    "print(len(item_list))"
   ]
  },
  {
   "cell_type": "code",
   "execution_count": 5,
   "id": "2fc48b10",
   "metadata": {},
   "outputs": [],
   "source": [
    "import os\n",
    "path = './naver_pay_img/'\n",
    "os.makedirs(path, exist_ok=True)\n",
    "\n",
    "for i in range(len(img_list)):\n",
    "    img = img_list[i]\n",
    "    with urllib.request.urlopen(img.get_attribute('src')) as f:\n",
    "        with open(path + item_list[i].text +'.jpg','wb') as h:\n",
    "            image = f.read()\n",
    "            h.write(image)\n",
    "# driver.close()"
   ]
  },
  {
   "cell_type": "code",
   "execution_count": 6,
   "id": "ac3f7098",
   "metadata": {},
   "outputs": [],
   "source": [
    "# item_name_list & img_url_list\n",
    "from pprint import pprint\n",
    "item_name_list = []\n",
    "img_url_list = []\n",
    "\n",
    "for item in item_list:\n",
    "    item_name_list.append(item.text)\n",
    "#pprint(item_name_list)\n",
    "    \n",
    "for img in img_list:\n",
    "    img_url_list.append(img.get_attribute('src'))\n",
    "#pprint(img_url_list)"
   ]
  },
  {
   "cell_type": "code",
   "execution_count": null,
   "id": "17d862ff",
   "metadata": {},
   "outputs": [],
   "source": [
    "C:\\git\\data-crawling-project\\naver_pay_img"
   ]
  },
  {
   "cell_type": "code",
   "execution_count": 22,
   "id": "e92ca249",
   "metadata": {
    "scrolled": true
   },
   "outputs": [
    {
     "data": {
      "text/plain": [
       "'/naver_pay_img/'"
      ]
     },
     "execution_count": 22,
     "metadata": {},
     "output_type": "execute_result"
    }
   ],
   "source": [
    "replaced_path = path.replace(\".\",\"\")\n",
    "replaced_path"
   ]
  },
  {
   "cell_type": "code",
   "execution_count": 25,
   "id": "03eb91d3",
   "metadata": {
    "scrolled": true
   },
   "outputs": [
    {
     "data": {
      "text/plain": [
       "'C:\\\\git\\\\data-crawling-project/naver_pay_img/쫄깃단무지1kg.jpg'"
      ]
     },
     "execution_count": 25,
     "metadata": {},
     "output_type": "execute_result"
    }
   ],
   "source": [
    "path_list = os.getcwd() + replaced_path + item_name_list[0] + '.jpg'\n",
    "path_list"
   ]
  },
  {
   "cell_type": "code",
   "execution_count": 32,
   "id": "12b95c79",
   "metadata": {
    "scrolled": true
   },
   "outputs": [],
   "source": [
    "p_list = []\n",
    "for p in range(len(item_list)):\n",
    "    pp = path + item_name_list[p] + '.jpg'\n",
    "    p_list.append(pp)"
   ]
  },
  {
   "cell_type": "code",
   "execution_count": 33,
   "id": "78d806a7",
   "metadata": {},
   "outputs": [
    {
     "data": {
      "text/plain": [
       "['./naver_pay_img/쫄깃단무지1kg.jpg',\n",
       " './naver_pay_img/볶음참깨1kg 검정깨 흑임자 볶은참깨 검은깨 수입깨.jpg',\n",
       " './naver_pay_img/오양 반찬소시지500g.jpg',\n",
       " './naver_pay_img/맥시스 울트라라이트 자전거 경량 튜브 MAXXIS ULTRALIGHT 26 27.5.jpg',\n",
       " './naver_pay_img/웰타이트 TF2 자전거 체인 오일 기름 때 테프론 윤활유 윤활제 건식 습식 구리스.jpg',\n",
       " './naver_pay_img/NSR 클럽 팬덤2 긴팔 여름 자전거 라이딩저지 우먼져지 자전거복 여성상의.jpg',\n",
       " './naver_pay_img/락브로스 새들백 자전거 레일형 하드케이스 방수 안장가방 A46.jpg',\n",
       " './naver_pay_img/NSR 뉴센스 자전거 라이딩 긴팔 nsr저지 자전거져지 라이딩복 자전거복 상의 우먼 여름.jpg',\n",
       " './naver_pay_img/홍진 HJC 퓨리온2.0 아이벡스 2.0 에어로 로드 라이딩 초경량 싸이클 자전거 헬멧.jpg',\n",
       " './naver_pay_img/2021년 NEW 홍진 HJC 퓨리온 아이벡스 2.0 자전거 에어로 헬멧.jpg',\n",
       " './naver_pay_img/컨티넨탈 레이스킹 쉴드월 MTB 산악 자전거 타이어 26, 27.5, 29인치 CONTINENTAL RACE KING 클린처 튜블리스.jpg',\n",
       " './naver_pay_img/맥시스 울트라라이트 자전거 경량 튜브 MAXXIS ULTRALIGHT 26 27.5.jpg',\n",
       " './naver_pay_img/락브로스 USB 충전식 LED 7가지 컬러 안장레일 시트포스트 자전거 후미등.jpg',\n",
       " './naver_pay_img/락브로스 자전거 여름 싸이클 반장갑.jpg',\n",
       " './naver_pay_img/국내제작 라르고 자전거 싸이클 라이딩 MTB 압박 컴프레션 삭스 니삭스 양말.jpg']"
      ]
     },
     "execution_count": 33,
     "metadata": {},
     "output_type": "execute_result"
    }
   ],
   "source": [
    "p_list"
   ]
  },
  {
   "cell_type": "code",
   "execution_count": 34,
   "id": "b075c415",
   "metadata": {
    "scrolled": true
   },
   "outputs": [
    {
     "name": "stdout",
     "output_type": "stream",
     "text": [
      "{'2021년 NEW 홍진 HJC 퓨리온 아이벡스 2.0 자전거 에어로 헬멧': './naver_pay_img/2021년 NEW 홍진 HJC '\n",
      "                                             '퓨리온 아이벡스 2.0 자전거 에어로 헬멧.jpg',\n",
      " 'NSR 뉴센스 자전거 라이딩 긴팔 nsr저지 자전거져지 라이딩복 자전거복 상의 우먼 여름': './naver_pay_img/NSR 뉴센스 '\n",
      "                                                      '자전거 라이딩 긴팔 nsr저지 자전거져지 '\n",
      "                                                      '라이딩복 자전거복 상의 우먼 여름.jpg',\n",
      " 'NSR 클럽 팬덤2 긴팔 여름 자전거 라이딩저지 우먼져지 자전거복 여성상의': './naver_pay_img/NSR 클럽 팬덤2 긴팔 '\n",
      "                                              '여름 자전거 라이딩저지 우먼져지 자전거복 여성상의.jpg',\n",
      " '국내제작 라르고 자전거 싸이클 라이딩 MTB 압박 컴프레션 삭스 니삭스 양말': './naver_pay_img/국내제작 라르고 자전거 '\n",
      "                                               '싸이클 라이딩 MTB 압박 컴프레션 삭스 니삭스 '\n",
      "                                               '양말.jpg',\n",
      " '락브로스 USB 충전식 LED 7가지 컬러 안장레일 시트포스트 자전거 후미등': './naver_pay_img/락브로스 USB 충전식 '\n",
      "                                               'LED 7가지 컬러 안장레일 시트포스트 자전거 '\n",
      "                                               '후미등.jpg',\n",
      " '락브로스 새들백 자전거 레일형 하드케이스 방수 안장가방 A46': './naver_pay_img/락브로스 새들백 자전거 레일형 하드케이스 '\n",
      "                                       '방수 안장가방 A46.jpg',\n",
      " '락브로스 자전거 여름 싸이클 반장갑': './naver_pay_img/락브로스 자전거 여름 싸이클 반장갑.jpg',\n",
      " '맥시스 울트라라이트 자전거 경량 튜브 MAXXIS ULTRALIGHT 26 27.5': './naver_pay_img/맥시스 울트라라이트 '\n",
      "                                                   '자전거 경량 튜브 MAXXIS '\n",
      "                                                   'ULTRALIGHT 26 27.5.jpg',\n",
      " '볶음참깨1kg 검정깨 흑임자 볶은참깨 검은깨 수입깨': './naver_pay_img/볶음참깨1kg 검정깨 흑임자 볶은참깨 검은깨 '\n",
      "                                 '수입깨.jpg',\n",
      " '오양 반찬소시지500g': './naver_pay_img/오양 반찬소시지500g.jpg',\n",
      " '웰타이트 TF2 자전거 체인 오일 기름 때 테프론 윤활유 윤활제 건식 습식 구리스': './naver_pay_img/웰타이트 TF2 '\n",
      "                                                  '자전거 체인 오일 기름 때 테프론 윤활유 윤활제 '\n",
      "                                                  '건식 습식 구리스.jpg',\n",
      " '쫄깃단무지1kg': './naver_pay_img/쫄깃단무지1kg.jpg',\n",
      " '컨티넨탈 레이스킹 쉴드월 MTB 산악 자전거 타이어 26, 27.5, 29인치 CONTINENTAL RACE KING 클린처 튜블리스': './naver_pay_img/컨티넨탈 '\n",
      "                                                                               '레이스킹 '\n",
      "                                                                               '쉴드월 '\n",
      "                                                                               'MTB '\n",
      "                                                                               '산악 '\n",
      "                                                                               '자전거 '\n",
      "                                                                               '타이어 '\n",
      "                                                                               '26, '\n",
      "                                                                               '27.5, '\n",
      "                                                                               '29인치 '\n",
      "                                                                               'CONTINENTAL '\n",
      "                                                                               'RACE '\n",
      "                                                                               'KING '\n",
      "                                                                               '클린처 '\n",
      "                                                                               '튜블리스.jpg',\n",
      " '홍진 HJC 퓨리온2.0 아이벡스 2.0 에어로 로드 라이딩 초경량 싸이클 자전거 헬멧': './naver_pay_img/홍진 HJC '\n",
      "                                                     '퓨리온2.0 아이벡스 2.0 에어로 로드 '\n",
      "                                                     '라이딩 초경량 싸이클 자전거 헬멧.jpg'}\n"
     ]
    },
    {
     "data": {
      "text/plain": [
       "14"
      ]
     },
     "execution_count": 34,
     "metadata": {},
     "output_type": "execute_result"
    }
   ],
   "source": [
    "# 상품명 - image 저장한 파일 주소 dictionary 집어넣기\n",
    "dict_data = dict(zip(item_name_list, p_list))\n",
    "pprint(dict_data)\n",
    "len(dict_data) # 총 n개의 dictionary 쌍"
   ]
  },
  {
   "cell_type": "code",
   "execution_count": 35,
   "id": "21efe30c",
   "metadata": {},
   "outputs": [
    {
     "name": "stdout",
     "output_type": "stream",
     "text": [
      "(14, 2)\n"
     ]
    },
    {
     "data": {
      "text/html": [
       "<div>\n",
       "<style scoped>\n",
       "    .dataframe tbody tr th:only-of-type {\n",
       "        vertical-align: middle;\n",
       "    }\n",
       "\n",
       "    .dataframe tbody tr th {\n",
       "        vertical-align: top;\n",
       "    }\n",
       "\n",
       "    .dataframe thead th {\n",
       "        text-align: right;\n",
       "    }\n",
       "</style>\n",
       "<table border=\"1\" class=\"dataframe\">\n",
       "  <thead>\n",
       "    <tr style=\"text-align: right;\">\n",
       "      <th></th>\n",
       "      <th>item_name</th>\n",
       "      <th>path_list</th>\n",
       "    </tr>\n",
       "  </thead>\n",
       "  <tbody>\n",
       "    <tr>\n",
       "      <th>0</th>\n",
       "      <td>쫄깃단무지1kg</td>\n",
       "      <td>./naver_pay_img/쫄깃단무지1kg.jpg</td>\n",
       "    </tr>\n",
       "    <tr>\n",
       "      <th>1</th>\n",
       "      <td>볶음참깨1kg 검정깨 흑임자 볶은참깨 검은깨 수입깨</td>\n",
       "      <td>./naver_pay_img/볶음참깨1kg 검정깨 흑임자 볶은참깨 검은깨 수입깨.jpg</td>\n",
       "    </tr>\n",
       "    <tr>\n",
       "      <th>2</th>\n",
       "      <td>오양 반찬소시지500g</td>\n",
       "      <td>./naver_pay_img/오양 반찬소시지500g.jpg</td>\n",
       "    </tr>\n",
       "    <tr>\n",
       "      <th>3</th>\n",
       "      <td>맥시스 울트라라이트 자전거 경량 튜브 MAXXIS ULTRALIGHT 26 27.5</td>\n",
       "      <td>./naver_pay_img/맥시스 울트라라이트 자전거 경량 튜브 MAXXIS UL...</td>\n",
       "    </tr>\n",
       "    <tr>\n",
       "      <th>4</th>\n",
       "      <td>웰타이트 TF2 자전거 체인 오일 기름 때 테프론 윤활유 윤활제 건식 습식 구리스</td>\n",
       "      <td>./naver_pay_img/웰타이트 TF2 자전거 체인 오일 기름 때 테프론 윤활...</td>\n",
       "    </tr>\n",
       "    <tr>\n",
       "      <th>5</th>\n",
       "      <td>NSR 클럽 팬덤2 긴팔 여름 자전거 라이딩저지 우먼져지 자전거복 여성상의</td>\n",
       "      <td>./naver_pay_img/NSR 클럽 팬덤2 긴팔 여름 자전거 라이딩저지 우먼져...</td>\n",
       "    </tr>\n",
       "    <tr>\n",
       "      <th>6</th>\n",
       "      <td>락브로스 새들백 자전거 레일형 하드케이스 방수 안장가방 A46</td>\n",
       "      <td>./naver_pay_img/락브로스 새들백 자전거 레일형 하드케이스 방수 안장가방...</td>\n",
       "    </tr>\n",
       "    <tr>\n",
       "      <th>7</th>\n",
       "      <td>NSR 뉴센스 자전거 라이딩 긴팔 nsr저지 자전거져지 라이딩복 자전거복 상의 우먼 여름</td>\n",
       "      <td>./naver_pay_img/NSR 뉴센스 자전거 라이딩 긴팔 nsr저지 자전거져지...</td>\n",
       "    </tr>\n",
       "    <tr>\n",
       "      <th>8</th>\n",
       "      <td>홍진 HJC 퓨리온2.0 아이벡스 2.0 에어로 로드 라이딩 초경량 싸이클 자전거 헬멧</td>\n",
       "      <td>./naver_pay_img/홍진 HJC 퓨리온2.0 아이벡스 2.0 에어로 로드 ...</td>\n",
       "    </tr>\n",
       "    <tr>\n",
       "      <th>9</th>\n",
       "      <td>2021년 NEW 홍진 HJC 퓨리온 아이벡스 2.0 자전거 에어로 헬멧</td>\n",
       "      <td>./naver_pay_img/2021년 NEW 홍진 HJC 퓨리온 아이벡스 2.0 ...</td>\n",
       "    </tr>\n",
       "    <tr>\n",
       "      <th>10</th>\n",
       "      <td>컨티넨탈 레이스킹 쉴드월 MTB 산악 자전거 타이어 26, 27.5, 29인치 CO...</td>\n",
       "      <td>./naver_pay_img/컨티넨탈 레이스킹 쉴드월 MTB 산악 자전거 타이어 2...</td>\n",
       "    </tr>\n",
       "    <tr>\n",
       "      <th>11</th>\n",
       "      <td>락브로스 USB 충전식 LED 7가지 컬러 안장레일 시트포스트 자전거 후미등</td>\n",
       "      <td>./naver_pay_img/락브로스 USB 충전식 LED 7가지 컬러 안장레일 시...</td>\n",
       "    </tr>\n",
       "    <tr>\n",
       "      <th>12</th>\n",
       "      <td>락브로스 자전거 여름 싸이클 반장갑</td>\n",
       "      <td>./naver_pay_img/락브로스 자전거 여름 싸이클 반장갑.jpg</td>\n",
       "    </tr>\n",
       "    <tr>\n",
       "      <th>13</th>\n",
       "      <td>국내제작 라르고 자전거 싸이클 라이딩 MTB 압박 컴프레션 삭스 니삭스 양말</td>\n",
       "      <td>./naver_pay_img/국내제작 라르고 자전거 싸이클 라이딩 MTB 압박 컴프...</td>\n",
       "    </tr>\n",
       "  </tbody>\n",
       "</table>\n",
       "</div>"
      ],
      "text/plain": [
       "                                            item_name  \\\n",
       "0                                            쫄깃단무지1kg   \n",
       "1                        볶음참깨1kg 검정깨 흑임자 볶은참깨 검은깨 수입깨   \n",
       "2                                        오양 반찬소시지500g   \n",
       "3      맥시스 울트라라이트 자전거 경량 튜브 MAXXIS ULTRALIGHT 26 27.5   \n",
       "4       웰타이트 TF2 자전거 체인 오일 기름 때 테프론 윤활유 윤활제 건식 습식 구리스   \n",
       "5           NSR 클럽 팬덤2 긴팔 여름 자전거 라이딩저지 우먼져지 자전거복 여성상의   \n",
       "6                  락브로스 새들백 자전거 레일형 하드케이스 방수 안장가방 A46   \n",
       "7   NSR 뉴센스 자전거 라이딩 긴팔 nsr저지 자전거져지 라이딩복 자전거복 상의 우먼 여름   \n",
       "8    홍진 HJC 퓨리온2.0 아이벡스 2.0 에어로 로드 라이딩 초경량 싸이클 자전거 헬멧   \n",
       "9            2021년 NEW 홍진 HJC 퓨리온 아이벡스 2.0 자전거 에어로 헬멧   \n",
       "10  컨티넨탈 레이스킹 쉴드월 MTB 산악 자전거 타이어 26, 27.5, 29인치 CO...   \n",
       "11         락브로스 USB 충전식 LED 7가지 컬러 안장레일 시트포스트 자전거 후미등   \n",
       "12                                락브로스 자전거 여름 싸이클 반장갑   \n",
       "13         국내제작 라르고 자전거 싸이클 라이딩 MTB 압박 컴프레션 삭스 니삭스 양말   \n",
       "\n",
       "                                            path_list  \n",
       "0                        ./naver_pay_img/쫄깃단무지1kg.jpg  \n",
       "1    ./naver_pay_img/볶음참깨1kg 검정깨 흑임자 볶은참깨 검은깨 수입깨.jpg  \n",
       "2                    ./naver_pay_img/오양 반찬소시지500g.jpg  \n",
       "3   ./naver_pay_img/맥시스 울트라라이트 자전거 경량 튜브 MAXXIS UL...  \n",
       "4   ./naver_pay_img/웰타이트 TF2 자전거 체인 오일 기름 때 테프론 윤활...  \n",
       "5   ./naver_pay_img/NSR 클럽 팬덤2 긴팔 여름 자전거 라이딩저지 우먼져...  \n",
       "6   ./naver_pay_img/락브로스 새들백 자전거 레일형 하드케이스 방수 안장가방...  \n",
       "7   ./naver_pay_img/NSR 뉴센스 자전거 라이딩 긴팔 nsr저지 자전거져지...  \n",
       "8   ./naver_pay_img/홍진 HJC 퓨리온2.0 아이벡스 2.0 에어로 로드 ...  \n",
       "9   ./naver_pay_img/2021년 NEW 홍진 HJC 퓨리온 아이벡스 2.0 ...  \n",
       "10  ./naver_pay_img/컨티넨탈 레이스킹 쉴드월 MTB 산악 자전거 타이어 2...  \n",
       "11  ./naver_pay_img/락브로스 USB 충전식 LED 7가지 컬러 안장레일 시...  \n",
       "12            ./naver_pay_img/락브로스 자전거 여름 싸이클 반장갑.jpg  \n",
       "13  ./naver_pay_img/국내제작 라르고 자전거 싸이클 라이딩 MTB 압박 컴프...  "
      ]
     },
     "execution_count": 35,
     "metadata": {},
     "output_type": "execute_result"
    }
   ],
   "source": [
    "df = pd.DataFrame(dict_data.items(), columns = ['item_name', 'path_list']) #from_dict 없으면 'index ERROR'\n",
    "#df1 = pd.DataFrame({'item_name' : dict_data.keys(), 'img_url' : dict_data.values()}) \n",
    "print(df.shape)\n",
    "df"
   ]
  },
  {
   "cell_type": "code",
   "execution_count": 39,
   "id": "7dbc14c1",
   "metadata": {},
   "outputs": [],
   "source": [
    "# DataFrame을 csv파일로\n",
    "df.to_csv('item_list.csv', encoding='utf-8-sig') # utf-8-sig 한글 깨짐 방지"
   ]
  },
  {
   "cell_type": "code",
   "execution_count": 40,
   "id": "ac0d677a",
   "metadata": {},
   "outputs": [
    {
     "data": {
      "text/html": [
       "<div>\n",
       "<style scoped>\n",
       "    .dataframe tbody tr th:only-of-type {\n",
       "        vertical-align: middle;\n",
       "    }\n",
       "\n",
       "    .dataframe tbody tr th {\n",
       "        vertical-align: top;\n",
       "    }\n",
       "\n",
       "    .dataframe thead th {\n",
       "        text-align: right;\n",
       "    }\n",
       "</style>\n",
       "<table border=\"1\" class=\"dataframe\">\n",
       "  <thead>\n",
       "    <tr style=\"text-align: right;\">\n",
       "      <th></th>\n",
       "      <th>item_name</th>\n",
       "      <th>path_list</th>\n",
       "    </tr>\n",
       "  </thead>\n",
       "  <tbody>\n",
       "    <tr>\n",
       "      <th>0</th>\n",
       "      <td>쫄깃단무지1kg</td>\n",
       "      <td>./naver_pay_img/쫄깃단무지1kg.jpg</td>\n",
       "    </tr>\n",
       "    <tr>\n",
       "      <th>1</th>\n",
       "      <td>볶음참깨1kg 검정깨 흑임자 볶은참깨 검은깨 수입깨</td>\n",
       "      <td>./naver_pay_img/볶음참깨1kg 검정깨 흑임자 볶은참깨 검은깨 수입깨.jpg</td>\n",
       "    </tr>\n",
       "    <tr>\n",
       "      <th>2</th>\n",
       "      <td>오양 반찬소시지500g</td>\n",
       "      <td>./naver_pay_img/오양 반찬소시지500g.jpg</td>\n",
       "    </tr>\n",
       "    <tr>\n",
       "      <th>3</th>\n",
       "      <td>맥시스 울트라라이트 자전거 경량 튜브 MAXXIS ULTRALIGHT 26 27.5</td>\n",
       "      <td>./naver_pay_img/맥시스 울트라라이트 자전거 경량 튜브 MAXXIS UL...</td>\n",
       "    </tr>\n",
       "    <tr>\n",
       "      <th>4</th>\n",
       "      <td>웰타이트 TF2 자전거 체인 오일 기름 때 테프론 윤활유 윤활제 건식 습식 구리스</td>\n",
       "      <td>./naver_pay_img/웰타이트 TF2 자전거 체인 오일 기름 때 테프론 윤활...</td>\n",
       "    </tr>\n",
       "    <tr>\n",
       "      <th>5</th>\n",
       "      <td>NSR 클럽 팬덤2 긴팔 여름 자전거 라이딩저지 우먼져지 자전거복 여성상의</td>\n",
       "      <td>./naver_pay_img/NSR 클럽 팬덤2 긴팔 여름 자전거 라이딩저지 우먼져...</td>\n",
       "    </tr>\n",
       "    <tr>\n",
       "      <th>6</th>\n",
       "      <td>락브로스 새들백 자전거 레일형 하드케이스 방수 안장가방 A46</td>\n",
       "      <td>./naver_pay_img/락브로스 새들백 자전거 레일형 하드케이스 방수 안장가방...</td>\n",
       "    </tr>\n",
       "    <tr>\n",
       "      <th>7</th>\n",
       "      <td>NSR 뉴센스 자전거 라이딩 긴팔 nsr저지 자전거져지 라이딩복 자전거복 상의 우먼 여름</td>\n",
       "      <td>./naver_pay_img/NSR 뉴센스 자전거 라이딩 긴팔 nsr저지 자전거져지...</td>\n",
       "    </tr>\n",
       "    <tr>\n",
       "      <th>8</th>\n",
       "      <td>홍진 HJC 퓨리온2.0 아이벡스 2.0 에어로 로드 라이딩 초경량 싸이클 자전거 헬멧</td>\n",
       "      <td>./naver_pay_img/홍진 HJC 퓨리온2.0 아이벡스 2.0 에어로 로드 ...</td>\n",
       "    </tr>\n",
       "    <tr>\n",
       "      <th>9</th>\n",
       "      <td>2021년 NEW 홍진 HJC 퓨리온 아이벡스 2.0 자전거 에어로 헬멧</td>\n",
       "      <td>./naver_pay_img/2021년 NEW 홍진 HJC 퓨리온 아이벡스 2.0 ...</td>\n",
       "    </tr>\n",
       "    <tr>\n",
       "      <th>10</th>\n",
       "      <td>컨티넨탈 레이스킹 쉴드월 MTB 산악 자전거 타이어 26, 27.5, 29인치 CO...</td>\n",
       "      <td>./naver_pay_img/컨티넨탈 레이스킹 쉴드월 MTB 산악 자전거 타이어 2...</td>\n",
       "    </tr>\n",
       "    <tr>\n",
       "      <th>11</th>\n",
       "      <td>락브로스 USB 충전식 LED 7가지 컬러 안장레일 시트포스트 자전거 후미등</td>\n",
       "      <td>./naver_pay_img/락브로스 USB 충전식 LED 7가지 컬러 안장레일 시...</td>\n",
       "    </tr>\n",
       "    <tr>\n",
       "      <th>12</th>\n",
       "      <td>락브로스 자전거 여름 싸이클 반장갑</td>\n",
       "      <td>./naver_pay_img/락브로스 자전거 여름 싸이클 반장갑.jpg</td>\n",
       "    </tr>\n",
       "    <tr>\n",
       "      <th>13</th>\n",
       "      <td>국내제작 라르고 자전거 싸이클 라이딩 MTB 압박 컴프레션 삭스 니삭스 양말</td>\n",
       "      <td>./naver_pay_img/국내제작 라르고 자전거 싸이클 라이딩 MTB 압박 컴프...</td>\n",
       "    </tr>\n",
       "  </tbody>\n",
       "</table>\n",
       "</div>"
      ],
      "text/plain": [
       "                                            item_name  \\\n",
       "0                                            쫄깃단무지1kg   \n",
       "1                        볶음참깨1kg 검정깨 흑임자 볶은참깨 검은깨 수입깨   \n",
       "2                                        오양 반찬소시지500g   \n",
       "3      맥시스 울트라라이트 자전거 경량 튜브 MAXXIS ULTRALIGHT 26 27.5   \n",
       "4       웰타이트 TF2 자전거 체인 오일 기름 때 테프론 윤활유 윤활제 건식 습식 구리스   \n",
       "5           NSR 클럽 팬덤2 긴팔 여름 자전거 라이딩저지 우먼져지 자전거복 여성상의   \n",
       "6                  락브로스 새들백 자전거 레일형 하드케이스 방수 안장가방 A46   \n",
       "7   NSR 뉴센스 자전거 라이딩 긴팔 nsr저지 자전거져지 라이딩복 자전거복 상의 우먼 여름   \n",
       "8    홍진 HJC 퓨리온2.0 아이벡스 2.0 에어로 로드 라이딩 초경량 싸이클 자전거 헬멧   \n",
       "9            2021년 NEW 홍진 HJC 퓨리온 아이벡스 2.0 자전거 에어로 헬멧   \n",
       "10  컨티넨탈 레이스킹 쉴드월 MTB 산악 자전거 타이어 26, 27.5, 29인치 CO...   \n",
       "11         락브로스 USB 충전식 LED 7가지 컬러 안장레일 시트포스트 자전거 후미등   \n",
       "12                                락브로스 자전거 여름 싸이클 반장갑   \n",
       "13         국내제작 라르고 자전거 싸이클 라이딩 MTB 압박 컴프레션 삭스 니삭스 양말   \n",
       "\n",
       "                                            path_list  \n",
       "0                        ./naver_pay_img/쫄깃단무지1kg.jpg  \n",
       "1    ./naver_pay_img/볶음참깨1kg 검정깨 흑임자 볶은참깨 검은깨 수입깨.jpg  \n",
       "2                    ./naver_pay_img/오양 반찬소시지500g.jpg  \n",
       "3   ./naver_pay_img/맥시스 울트라라이트 자전거 경량 튜브 MAXXIS UL...  \n",
       "4   ./naver_pay_img/웰타이트 TF2 자전거 체인 오일 기름 때 테프론 윤활...  \n",
       "5   ./naver_pay_img/NSR 클럽 팬덤2 긴팔 여름 자전거 라이딩저지 우먼져...  \n",
       "6   ./naver_pay_img/락브로스 새들백 자전거 레일형 하드케이스 방수 안장가방...  \n",
       "7   ./naver_pay_img/NSR 뉴센스 자전거 라이딩 긴팔 nsr저지 자전거져지...  \n",
       "8   ./naver_pay_img/홍진 HJC 퓨리온2.0 아이벡스 2.0 에어로 로드 ...  \n",
       "9   ./naver_pay_img/2021년 NEW 홍진 HJC 퓨리온 아이벡스 2.0 ...  \n",
       "10  ./naver_pay_img/컨티넨탈 레이스킹 쉴드월 MTB 산악 자전거 타이어 2...  \n",
       "11  ./naver_pay_img/락브로스 USB 충전식 LED 7가지 컬러 안장레일 시...  \n",
       "12            ./naver_pay_img/락브로스 자전거 여름 싸이클 반장갑.jpg  \n",
       "13  ./naver_pay_img/국내제작 라르고 자전거 싸이클 라이딩 MTB 압박 컴프...  "
      ]
     },
     "execution_count": 40,
     "metadata": {},
     "output_type": "execute_result"
    }
   ],
   "source": [
    "# csv를 read하여 재확인\n",
    "df2 = pd.read_csv(\"item_list.csv\", index_col = 0)\n",
    "df2"
   ]
  }
 ],
 "metadata": {
  "kernelspec": {
   "display_name": "Python 3",
   "language": "python",
   "name": "python3"
  },
  "language_info": {
   "codemirror_mode": {
    "name": "ipython",
    "version": 3
   },
   "file_extension": ".py",
   "mimetype": "text/x-python",
   "name": "python",
   "nbconvert_exporter": "python",
   "pygments_lexer": "ipython3",
   "version": "3.8.5"
  }
 },
 "nbformat": 4,
 "nbformat_minor": 5
}
