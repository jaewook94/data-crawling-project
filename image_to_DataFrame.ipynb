{
 "cells": [
  {
   "cell_type": "code",
   "execution_count": 18,
   "id": "03619d99",
   "metadata": {},
   "outputs": [],
   "source": [
    "from selenium import webdriver\n",
    "from selenium.webdriver.common.keys import Keys\n",
    "import time\n",
    "import pyperclip\n",
    "import urllib.request\n",
    "import numpy as np\n",
    "import pandas as pd\n",
    "import matplotlib.pyplot as plt"
   ]
  },
  {
   "cell_type": "code",
   "execution_count": 19,
   "id": "f3542a3e",
   "metadata": {},
   "outputs": [],
   "source": [
    "path = '/Users/재욱/Downloads/chromedriver'\n",
    "driver = webdriver.Chrome(path)\n",
    "\n",
    "driver.get('https://www.naver.com/')\n",
    "time.sleep(1)\n",
    "\n",
    "xpath = '//a[@class=\"link_login\"]'\n",
    "xpath_id = '//input[@id=\"id\"]'\n",
    "xpath_pw = '//input[@id=\"pw\"]'\n",
    "xpath_login = '//input[@id=\"log.login\"]' \n",
    "\n",
    "my_id = 'dlsdj132'\n",
    "my_pw = 'qkekrkwk132'\n",
    "\n",
    "# 로그인 클릭\n",
    "driver.find_element_by_xpath(xpath).click()\n",
    "# id 복사 및 붙여넣기\n",
    "pyperclip.copy(my_id)\n",
    "driver.find_element_by_xpath(xpath_id).send_keys(Keys.CONTROL, 'v')\n",
    "# pw 복사 및 붙여넣기\n",
    "pyperclip.copy(my_pw)\n",
    "driver.find_element_by_xpath(xpath_pw).send_keys(Keys.CONTROL, 'v')\n",
    "# 로그인 클릭\n",
    "driver.find_element_by_xpath(xpath_login).click()\n",
    "time.sleep(1)"
   ]
  },
  {
   "cell_type": "code",
   "execution_count": 20,
   "id": "46e14a64",
   "metadata": {},
   "outputs": [],
   "source": [
    "driver.get('https://order.pay.naver.com/home')"
   ]
  },
  {
   "cell_type": "code",
   "execution_count": 23,
   "id": "5c433406",
   "metadata": {},
   "outputs": [
    {
     "name": "stdout",
     "output_type": "stream",
     "text": [
      "맥시스 울트라라이트 자전거 경량 튜브 MAXXIS ULTRALIGHT 26 27.5\n",
      "15\n"
     ]
    }
   ],
   "source": [
    "xpath_item = '//*[@id=\"_listContentArea\"]'\n",
    "division = driver.find_element_by_xpath(xpath_item)\n",
    "img_list = division.find_elements_by_tag_name('img')\n",
    "item_list = division.find_elements_by_class_name('name')\n",
    "print(item_list[0].text)\n",
    "print(len(item_list))"
   ]
  },
  {
   "cell_type": "code",
   "execution_count": 22,
   "id": "432a4c65",
   "metadata": {},
   "outputs": [],
   "source": [
    "import os\n",
    "path = './naver_pay_img/'\n",
    "os.makedirs(path, exist_ok=True)\n",
    "\n",
    "for i in range(len(img_list)):\n",
    "    img = img_list[i]\n",
    "    with urllib.request.urlopen(img.get_attribute('src')) as f:\n",
    "        with open(path + item_list[i].text +'.jpg','wb') as h:\n",
    "            image = f.read()\n",
    "            h.write(image)\n",
    "# driver.close()"
   ]
  },
  {
   "cell_type": "code",
   "execution_count": 10,
   "id": "ac3f7098",
   "metadata": {},
   "outputs": [
    {
     "name": "stdout",
     "output_type": "stream",
     "text": [
      "['맥시스 울트라라이트 자전거 경량 튜브 MAXXIS ULTRALIGHT 26 27.5',\n",
      " '웰타이트 TF2 자전거 체인 오일 기름 때 테프론 윤활유 윤활제 건식 습식 구리스',\n",
      " 'NSR 클럽 팬덤2 긴팔 여름 자전거 라이딩저지 우먼져지 자전거복 여성상의',\n",
      " '락브로스 새들백 자전거 레일형 하드케이스 방수 안장가방 A46',\n",
      " 'NSR 뉴센스 자전거 라이딩 긴팔 nsr저지 자전거져지 라이딩복 자전거복 상의 우먼 여름',\n",
      " '홍진 HJC 퓨리온2.0 아이벡스 2.0 에어로 로드 라이딩 초경량 싸이클 자전거 헬멧',\n",
      " '2021년 NEW 홍진 HJC 퓨리온 아이벡스 2.0 자전거 에어로 헬멧',\n",
      " '컨티넨탈 레이스킹 쉴드월 MTB 산악 자전거 타이어 26, 27.5, 29인치 CONTINENTAL RACE KING 클린처 튜블리스',\n",
      " '맥시스 울트라라이트 자전거 경량 튜브 MAXXIS ULTRALIGHT 26 27.5',\n",
      " '락브로스 USB 충전식 LED 7가지 컬러 안장레일 시트포스트 자전거 후미등',\n",
      " '락브로스 자전거 여름 싸이클 반장갑',\n",
      " '국내제작 라르고 자전거 싸이클 라이딩 MTB 압박 컴프레션 삭스 니삭스 양말',\n",
      " '국내제작 라르고 자전거 싸이클 라이딩 MTB 압박 컴프레션 삭스 니삭스 양말',\n",
      " '국내제작 라르고 자전거 싸이클 라이딩 MTB 압박 컴프레션 삭스 니삭스 양말',\n",
      " '김서림방지 숨쉬기 편한 메쉬 쿨 멀티스카프 자외선차단 넥워머 버프 여름 마스크 바라클라바']\n",
      "['https://order.pay.naver.com/proxy/phinf/shop1/20201201_99/16068237534644f2Iq_JPEG/7959533183170982_344390475.jpg?type=m90_90',\n",
      " 'https://order.pay.naver.com/proxy/phinf/shop1/20210113_191/1610508482412L001M_JPEG/11644266091362594_39371805.jpg?type=m90_90',\n",
      " 'https://order.pay.naver.com/proxy/phinf/shop1/20210303_89/1614738838043b9Eop_PNG/15874671840529965_106342422.png?type=m90_90',\n",
      " 'https://order.pay.naver.com/proxy/phinf/shop1/20210616_246/1623834498277V5EM7_JPEG/24970281970222235_1252524171.jpg?type=m90_90',\n",
      " 'https://order.pay.naver.com/proxy/phinf/shop1/20210210_137/1612920796001T2Bn7_PNG/14056684687878733_1712388147.png?type=m90_90',\n",
      " 'https://order.pay.naver.com/proxy/phinf/shop1/20210426_263/1619409644772gqRUV_PNG/20545478549975473_1360353111.PNG?type=m90_90',\n",
      " 'https://order.pay.naver.com/proxy/phinf/shop1/20210603_254/1622706841704QXlDC_JPEG/23842684386691767_1677937167.jpg?type=m90_90',\n",
      " 'https://order.pay.naver.com/proxy/phinf/shop1/20201005_289/1601825310406RUkuN_JPEG/2961156122271042_890915781.jpg?type=m90_90',\n",
      " 'https://order.pay.naver.com/proxy/phinf/shop1/20201201_99/16068237534644f2Iq_JPEG/7959533183170982_344390475.jpg?type=m90_90',\n",
      " 'https://order.pay.naver.com/proxy/phinf/shop1/20200610_112/1591757059025Arb4I_JPEG/29116893565381541_376685099.jpg?type=m90_90',\n",
      " 'https://order.pay.naver.com/proxy/phinf/shop1/20180602_167/davinci123_1527919185504KGXB6_JPEG/51226345119824333_759890029.jpg?type=m90_90',\n",
      " 'https://order.pay.naver.com/proxy/phinf/shop1/20210402_140/1617347286672DOVgx_JPEG/18483182370137040_1101092876.jpg?type=m90_90',\n",
      " 'https://order.pay.naver.com/proxy/phinf/shop1/20210402_140/1617347286672DOVgx_JPEG/18483182370137040_1101092876.jpg?type=m90_90',\n",
      " 'https://order.pay.naver.com/proxy/phinf/shop1/20210402_140/1617347286672DOVgx_JPEG/18483182370137040_1101092876.jpg?type=m90_90',\n",
      " 'https://order.pay.naver.com/proxy/phinf/shop1/20210217_154/16135524485666L7Aj_JPEG/14688232120448235_1869499466.jpg?type=m90_90']\n"
     ]
    }
   ],
   "source": [
    "from pprint import pprint\n",
    "item_name_list = []\n",
    "img_url_list = []\n",
    "\n",
    "for item in item_list:\n",
    "    item_name_list.append(item.text)\n",
    "pprint(item_name_list)\n",
    "    \n",
    "for img in img_list:\n",
    "    img_url_list.append(img.get_attribute('src'))"
   ]
  },
  {
   "cell_type": "code",
   "execution_count": 29,
   "id": "b075c415",
   "metadata": {},
   "outputs": [
    {
     "name": "stdout",
     "output_type": "stream",
     "text": [
      "{'2021년 NEW 홍진 HJC 퓨리온 아이벡스 2.0 자전거 에어로 헬멧': 'https://order.pay.naver.com/proxy/phinf/shop1/20210603_254/1622706841704QXlDC_JPEG/23842684386691767_1677937167.jpg?type=m90_90',\n",
      " 'NSR 뉴센스 자전거 라이딩 긴팔 nsr저지 자전거져지 라이딩복 자전거복 상의 우먼 여름': 'https://order.pay.naver.com/proxy/phinf/shop1/20210210_137/1612920796001T2Bn7_PNG/14056684687878733_1712388147.png?type=m90_90',\n",
      " 'NSR 클럽 팬덤2 긴팔 여름 자전거 라이딩저지 우먼져지 자전거복 여성상의': 'https://order.pay.naver.com/proxy/phinf/shop1/20210303_89/1614738838043b9Eop_PNG/15874671840529965_106342422.png?type=m90_90',\n",
      " '국내제작 라르고 자전거 싸이클 라이딩 MTB 압박 컴프레션 삭스 니삭스 양말': 'https://order.pay.naver.com/proxy/phinf/shop1/20210402_140/1617347286672DOVgx_JPEG/18483182370137040_1101092876.jpg?type=m90_90',\n",
      " '김서림방지 숨쉬기 편한 메쉬 쿨 멀티스카프 자외선차단 넥워머 버프 여름 마스크 바라클라바': 'https://order.pay.naver.com/proxy/phinf/shop1/20210217_154/16135524485666L7Aj_JPEG/14688232120448235_1869499466.jpg?type=m90_90',\n",
      " '락브로스 USB 충전식 LED 7가지 컬러 안장레일 시트포스트 자전거 후미등': 'https://order.pay.naver.com/proxy/phinf/shop1/20200610_112/1591757059025Arb4I_JPEG/29116893565381541_376685099.jpg?type=m90_90',\n",
      " '락브로스 새들백 자전거 레일형 하드케이스 방수 안장가방 A46': 'https://order.pay.naver.com/proxy/phinf/shop1/20210616_246/1623834498277V5EM7_JPEG/24970281970222235_1252524171.jpg?type=m90_90',\n",
      " '락브로스 자전거 여름 싸이클 반장갑': 'https://order.pay.naver.com/proxy/phinf/shop1/20180602_167/davinci123_1527919185504KGXB6_JPEG/51226345119824333_759890029.jpg?type=m90_90',\n",
      " '맥시스 울트라라이트 자전거 경량 튜브 MAXXIS ULTRALIGHT 26 27.5': 'https://order.pay.naver.com/proxy/phinf/shop1/20201201_99/16068237534644f2Iq_JPEG/7959533183170982_344390475.jpg?type=m90_90',\n",
      " '웰타이트 TF2 자전거 체인 오일 기름 때 테프론 윤활유 윤활제 건식 습식 구리스': 'https://order.pay.naver.com/proxy/phinf/shop1/20210113_191/1610508482412L001M_JPEG/11644266091362594_39371805.jpg?type=m90_90',\n",
      " '컨티넨탈 레이스킹 쉴드월 MTB 산악 자전거 타이어 26, 27.5, 29인치 CONTINENTAL RACE KING 클린처 튜블리스': 'https://order.pay.naver.com/proxy/phinf/shop1/20201005_289/1601825310406RUkuN_JPEG/2961156122271042_890915781.jpg?type=m90_90',\n",
      " '홍진 HJC 퓨리온2.0 아이벡스 2.0 에어로 로드 라이딩 초경량 싸이클 자전거 헬멧': 'https://order.pay.naver.com/proxy/phinf/shop1/20210426_263/1619409644772gqRUV_PNG/20545478549975473_1360353111.PNG?type=m90_90'}\n"
     ]
    },
    {
     "data": {
      "text/plain": [
       "12"
      ]
     },
     "execution_count": 29,
     "metadata": {},
     "output_type": "execute_result"
    }
   ],
   "source": [
    "# 상품명 - image 저장한 파일 주소 dictionary 집어넣기\n",
    "dictionary = dict(zip(item_name_list, img_url_list))\n",
    "pprint(dictionary)\n",
    "len(dictionary)"
   ]
  },
  {
   "cell_type": "code",
   "execution_count": 13,
   "id": "22264b58",
   "metadata": {},
   "outputs": [],
   "source": [
    "\n",
    "\n",
    "search_name = \"happyface\"\n",
    "\n",
    "search_url = \"https://www.google.com/search?q=\" + search_name + \"&hl=ko&tbm=isch\"\n",
    "driver.get(search_url)\n",
    "    \n",
    "division = driver.find_element_by_xpath(xpath)\n",
    "img_list = division.find_elements_by_tag_name('img')\n",
    "img_count = len(img_list)"
   ]
  },
  {
   "cell_type": "code",
   "execution_count": 59,
   "id": "be00609a",
   "metadata": {},
   "outputs": [],
   "source": [
    "import os\n",
    "\n",
    "def search_selenium(search_name, search_num):\n",
    "    path = '/Users/재욱/Downloads/chromedriver'\n",
    "    driver = webdriver.Chrome(path)\n",
    "    xpath = '//*[@id=\"islrg\"]'\n",
    "    \n",
    "    search_url = \"https://www.google.com/search?q=\" + search_name + \"&hl=ko&tbm=isch\"\n",
    "    driver.get(search_url)\n",
    "    \n",
    "    division = driver.find_element_by_xpath(xpath)\n",
    "    img_list = division.find_elements_by_tag_name('img')\n",
    "    img_count = len(img_list)\n",
    "    \n",
    "    \n",
    "    print(\"number of loaded images : \", img_count)\n",
    "    \n",
    "    driver.implicitly_wait(2)\n",
    "    path = './' + str(search_name) + '_img/'\n",
    "    os.makedirs(path, exist_ok=True)\n",
    "    \n",
    "    for i in range(search_num):\n",
    "        img = img_list[i]\n",
    "        with urllib.request.urlopen(img.get_attribute('src')) as f:\n",
    "            with open(path + str(i+1) +'.jpg','wb') as h:\n",
    "                image = f.read()\n",
    "                h.write(image)\n",
    "        i+=1\n",
    "    driver.close()\n",
    "    \n",
    "    print('Download Completed!')"
   ]
  },
  {
   "cell_type": "code",
   "execution_count": 62,
   "id": "10e14219",
   "metadata": {},
   "outputs": [
    {
     "name": "stdout",
     "output_type": "stream",
     "text": [
      "your keyword : ai logo\n",
      "Max number you want to search : 30\n",
      "number of loaded images :  54\n"
     ]
    },
    {
     "ename": "AttributeError",
     "evalue": "'NoneType' object has no attribute 'timeout'",
     "output_type": "error",
     "traceback": [
      "\u001b[1;31m---------------------------------------------------------------------------\u001b[0m",
      "\u001b[1;31mAttributeError\u001b[0m                            Traceback (most recent call last)",
      "\u001b[1;32m<ipython-input-62-972807ccec63>\u001b[0m in \u001b[0;36m<module>\u001b[1;34m\u001b[0m\n\u001b[0;32m      2\u001b[0m     \u001b[0msearch_name\u001b[0m \u001b[1;33m=\u001b[0m \u001b[0minput\u001b[0m\u001b[1;33m(\u001b[0m\u001b[1;34m\"your keyword : \"\u001b[0m\u001b[1;33m)\u001b[0m\u001b[1;33m\u001b[0m\u001b[1;33m\u001b[0m\u001b[0m\n\u001b[0;32m      3\u001b[0m     \u001b[0msearch_num\u001b[0m \u001b[1;33m=\u001b[0m \u001b[0mint\u001b[0m\u001b[1;33m(\u001b[0m\u001b[0minput\u001b[0m\u001b[1;33m(\u001b[0m\u001b[1;34m\"Max number you want to search : \"\u001b[0m\u001b[1;33m)\u001b[0m\u001b[1;33m)\u001b[0m\u001b[1;33m\u001b[0m\u001b[1;33m\u001b[0m\u001b[0m\n\u001b[1;32m----> 4\u001b[1;33m     \u001b[0msearch_selenium\u001b[0m\u001b[1;33m(\u001b[0m\u001b[0msearch_name\u001b[0m\u001b[1;33m,\u001b[0m \u001b[0msearch_num\u001b[0m\u001b[1;33m)\u001b[0m\u001b[1;33m\u001b[0m\u001b[1;33m\u001b[0m\u001b[0m\n\u001b[0m",
      "\u001b[1;32m<ipython-input-59-8ee07b3107b2>\u001b[0m in \u001b[0;36msearch_selenium\u001b[1;34m(search_name, search_num)\u001b[0m\n\u001b[0;32m     22\u001b[0m     \u001b[1;32mfor\u001b[0m \u001b[0mi\u001b[0m \u001b[1;32min\u001b[0m \u001b[0mrange\u001b[0m\u001b[1;33m(\u001b[0m\u001b[0msearch_num\u001b[0m\u001b[1;33m)\u001b[0m\u001b[1;33m:\u001b[0m\u001b[1;33m\u001b[0m\u001b[1;33m\u001b[0m\u001b[0m\n\u001b[0;32m     23\u001b[0m         \u001b[0mimg\u001b[0m \u001b[1;33m=\u001b[0m \u001b[0mimg_list\u001b[0m\u001b[1;33m[\u001b[0m\u001b[0mi\u001b[0m\u001b[1;33m]\u001b[0m\u001b[1;33m\u001b[0m\u001b[1;33m\u001b[0m\u001b[0m\n\u001b[1;32m---> 24\u001b[1;33m         \u001b[1;32mwith\u001b[0m \u001b[0murllib\u001b[0m\u001b[1;33m.\u001b[0m\u001b[0mrequest\u001b[0m\u001b[1;33m.\u001b[0m\u001b[0murlopen\u001b[0m\u001b[1;33m(\u001b[0m\u001b[0mimg\u001b[0m\u001b[1;33m.\u001b[0m\u001b[0mget_attribute\u001b[0m\u001b[1;33m(\u001b[0m\u001b[1;34m'src'\u001b[0m\u001b[1;33m)\u001b[0m\u001b[1;33m)\u001b[0m \u001b[1;32mas\u001b[0m \u001b[0mf\u001b[0m\u001b[1;33m:\u001b[0m\u001b[1;33m\u001b[0m\u001b[1;33m\u001b[0m\u001b[0m\n\u001b[0m\u001b[0;32m     25\u001b[0m             \u001b[1;32mwith\u001b[0m \u001b[0mopen\u001b[0m\u001b[1;33m(\u001b[0m\u001b[0mpath\u001b[0m \u001b[1;33m+\u001b[0m \u001b[0mstr\u001b[0m\u001b[1;33m(\u001b[0m\u001b[0mi\u001b[0m\u001b[1;33m+\u001b[0m\u001b[1;36m1\u001b[0m\u001b[1;33m)\u001b[0m \u001b[1;33m+\u001b[0m\u001b[1;34m'.jpg'\u001b[0m\u001b[1;33m,\u001b[0m\u001b[1;34m'wb'\u001b[0m\u001b[1;33m)\u001b[0m \u001b[1;32mas\u001b[0m \u001b[0mh\u001b[0m\u001b[1;33m:\u001b[0m\u001b[1;33m\u001b[0m\u001b[1;33m\u001b[0m\u001b[0m\n\u001b[0;32m     26\u001b[0m                 \u001b[0mimage\u001b[0m \u001b[1;33m=\u001b[0m \u001b[0mf\u001b[0m\u001b[1;33m.\u001b[0m\u001b[0mread\u001b[0m\u001b[1;33m(\u001b[0m\u001b[1;33m)\u001b[0m\u001b[1;33m\u001b[0m\u001b[1;33m\u001b[0m\u001b[0m\n",
      "\u001b[1;32mC:\\anaconda3\\lib\\urllib\\request.py\u001b[0m in \u001b[0;36murlopen\u001b[1;34m(url, data, timeout, cafile, capath, cadefault, context)\u001b[0m\n\u001b[0;32m    220\u001b[0m     \u001b[1;32melse\u001b[0m\u001b[1;33m:\u001b[0m\u001b[1;33m\u001b[0m\u001b[1;33m\u001b[0m\u001b[0m\n\u001b[0;32m    221\u001b[0m         \u001b[0mopener\u001b[0m \u001b[1;33m=\u001b[0m \u001b[0m_opener\u001b[0m\u001b[1;33m\u001b[0m\u001b[1;33m\u001b[0m\u001b[0m\n\u001b[1;32m--> 222\u001b[1;33m     \u001b[1;32mreturn\u001b[0m \u001b[0mopener\u001b[0m\u001b[1;33m.\u001b[0m\u001b[0mopen\u001b[0m\u001b[1;33m(\u001b[0m\u001b[0murl\u001b[0m\u001b[1;33m,\u001b[0m \u001b[0mdata\u001b[0m\u001b[1;33m,\u001b[0m \u001b[0mtimeout\u001b[0m\u001b[1;33m)\u001b[0m\u001b[1;33m\u001b[0m\u001b[1;33m\u001b[0m\u001b[0m\n\u001b[0m\u001b[0;32m    223\u001b[0m \u001b[1;33m\u001b[0m\u001b[0m\n\u001b[0;32m    224\u001b[0m \u001b[1;32mdef\u001b[0m \u001b[0minstall_opener\u001b[0m\u001b[1;33m(\u001b[0m\u001b[0mopener\u001b[0m\u001b[1;33m)\u001b[0m\u001b[1;33m:\u001b[0m\u001b[1;33m\u001b[0m\u001b[1;33m\u001b[0m\u001b[0m\n",
      "\u001b[1;32mC:\\anaconda3\\lib\\urllib\\request.py\u001b[0m in \u001b[0;36mopen\u001b[1;34m(self, fullurl, data, timeout)\u001b[0m\n\u001b[0;32m    513\u001b[0m                 \u001b[0mreq\u001b[0m\u001b[1;33m.\u001b[0m\u001b[0mdata\u001b[0m \u001b[1;33m=\u001b[0m \u001b[0mdata\u001b[0m\u001b[1;33m\u001b[0m\u001b[1;33m\u001b[0m\u001b[0m\n\u001b[0;32m    514\u001b[0m \u001b[1;33m\u001b[0m\u001b[0m\n\u001b[1;32m--> 515\u001b[1;33m         \u001b[0mreq\u001b[0m\u001b[1;33m.\u001b[0m\u001b[0mtimeout\u001b[0m \u001b[1;33m=\u001b[0m \u001b[0mtimeout\u001b[0m\u001b[1;33m\u001b[0m\u001b[1;33m\u001b[0m\u001b[0m\n\u001b[0m\u001b[0;32m    516\u001b[0m         \u001b[0mprotocol\u001b[0m \u001b[1;33m=\u001b[0m \u001b[0mreq\u001b[0m\u001b[1;33m.\u001b[0m\u001b[0mtype\u001b[0m\u001b[1;33m\u001b[0m\u001b[1;33m\u001b[0m\u001b[0m\n\u001b[0;32m    517\u001b[0m \u001b[1;33m\u001b[0m\u001b[0m\n",
      "\u001b[1;31mAttributeError\u001b[0m: 'NoneType' object has no attribute 'timeout'"
     ]
    }
   ],
   "source": [
    "if __name__ == \"__main__\":\n",
    "    search_name = input(\"your keyword : \")\n",
    "    search_num = int(input(\"Max number you want to search : \"))\n",
    "    search_selenium(search_name, search_num)"
   ]
  },
  {
   "cell_type": "code",
   "execution_count": null,
   "id": "1841f2fb",
   "metadata": {},
   "outputs": [],
   "source": []
  }
 ],
 "metadata": {
  "kernelspec": {
   "display_name": "Python 3",
   "language": "python",
   "name": "python3"
  },
  "language_info": {
   "codemirror_mode": {
    "name": "ipython",
    "version": 3
   },
   "file_extension": ".py",
   "mimetype": "text/x-python",
   "name": "python",
   "nbconvert_exporter": "python",
   "pygments_lexer": "ipython3",
   "version": "3.8.5"
  }
 },
 "nbformat": 4,
 "nbformat_minor": 5
}
