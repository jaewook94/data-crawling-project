{
 "cells": [
  {
   "cell_type": "code",
   "execution_count": 1,
   "id": "537c5a2d",
   "metadata": {},
   "outputs": [],
   "source": [
    "from selenium import webdriver\n",
    "from selenium.webdriver.common.keys import Keys\n",
    "import time\n",
    "import pyperclip\n",
    "import urllib.request\n",
    "import numpy as np\n",
    "import matplotlib.pyplot as plt\n",
    "import pandas as pd\n",
    "import os\n",
    "from pprint import pprint\n",
    "from tqdm import tqdm, notebook\n",
    "import json\n",
    "from selenium.webdriver.support.ui import WebDriverWait\n",
    "from selenium.webdriver.support import expected_conditions as EC\n",
    "from selenium.webdriver.common.by import By"
   ]
  },
  {
   "cell_type": "code",
   "execution_count": 2,
   "id": "811647c6",
   "metadata": {},
   "outputs": [],
   "source": [
    "path = r'C:\\Users\\재욱\\Downloads\\chromedriver.exe'\n",
    "driver = webdriver.Chrome(path)\n",
    "driver.implicitly_wait(3)\n",
    "country_url = \"https://www.brandsoftheworld.com/logos/countries\" \n",
    "driver.get(country_url)\n",
    "\n",
    "xpath = '//*[@id=\"primaryInner\"]/div/ul'\n",
    "division = driver.find_element_by_xpath(xpath)\n",
    "country_list = division.find_elements_by_tag_name('a') # List형\n",
    "\n",
    "country_url_list = []\n",
    "for country_url in country_list:\n",
    "    country_url_list.append(country_url.get_attribute('href'))"
   ]
  },
  {
   "cell_type": "markdown",
   "id": "e8bdf17c",
   "metadata": {},
   "source": [
    "## 빈 딕셔너리 (dict_status) 선언 후 JSON 파일 먼저 만들기"
   ]
  },
  {
   "cell_type": "code",
   "execution_count": 16,
   "id": "0bbb969e",
   "metadata": {},
   "outputs": [],
   "source": [
    "dict_status = {}\n",
    "with open(\"brands_of_the_world.json\", \"w\") as upload_file:\n",
    "    json.dump(dict_status, upload_file)"
   ]
  },
  {
   "cell_type": "markdown",
   "id": "2be68a1b",
   "metadata": {},
   "source": [
    "## JSON with image download"
   ]
  },
  {
   "cell_type": "code",
   "execution_count": 20,
   "id": "4f27697d",
   "metadata": {},
   "outputs": [
    {
     "name": "stdout",
     "output_type": "stream",
     "text": [
      "지난 status 상황 : \n",
      "{'Afghanistan': {'latest_page': 2, 'status': 'DONE'},\n",
      " 'Albania': {'latest_page': 3, 'status': 'NOT DONE'}}\n",
      "+-----------------------------------------------------------------+\n"
     ]
    },
    {
     "data": {
      "application/vnd.jupyter.widget-view+json": {
       "model_id": "59783eb77d2c478f8552a9f3a952a21c",
       "version_major": 2,
       "version_minor": 0
      },
      "text/plain": [
       "iterate range 100:   0%|          | 0/240 [00:00<?, ?it/s]"
      ]
     },
     "metadata": {},
     "output_type": "display_data"
    },
    {
     "name": "stdout",
     "output_type": "stream",
     "text": [
      "Albania의 3번째 page 이미지 저장 완료\n",
      "[Errno 2] No such file or directory: './brands_of_the_world/Albania_company_logo/24/7 Rental Cars.jpg'\n",
      "Albania의 4번째 page 이미지 저장 완료\n",
      "Albania의 5번째 page 이미지 저장 완료\n",
      "Albania의 6번째 page 이미지 저장 완료\n",
      "[KeyboardInterrupt] 현재까지의 status :\n",
      "{'Afghanistan': {'latest_page': 2, 'status': 'DONE'},\n",
      " 'Albania': {'latest_page': 7, 'status': 'NOT DONE'}}\n",
      "\n",
      "\n"
     ]
    }
   ],
   "source": [
    "# 빈 딕셔너리 (dict_status) 선언 후 JSON 파일 먼저 만들기\n",
    "try:\n",
    "    XPATH_COUNTRY_TABLE = '//*[@id=\"primaryInner\"]/div/div[1]'\n",
    "    XPATH_COUNTRY_NAME = '//*[@id=\"primary\"]/h1/span'\n",
    "    print(\"지난 status 상황 : \")\n",
    "    with open(\"brands_of_the_world.json\", \"r\") as download_file:\n",
    "        dict_status = json.loads(download_file.read())\n",
    "    pprint(dict_status)\n",
    "    print('+-----------------------------------------------------------------+')\n",
    "\n",
    "    # COUNTRY_NUMBER 대신 enumerate를 쓰는 연습\n",
    "    for idx , country_path in enumerate(notebook.tqdm(country_url_list, desc='iterate range 100')):\n",
    "        driver.get(country_path)\n",
    "        country_name = driver.find_element_by_xpath(XPATH_COUNTRY_NAME).text\n",
    "        \n",
    "        # 해당 국가의 key-value가 없을 경우. (해당 국가 페이지 처음 방문)\n",
    "        if country_name not in dict_status.keys():\n",
    "            dict_status[country_name] = {\"status\" : 'NOT DONE', \"latest_page\" : -1} # 현재 국가 save status 초기화\n",
    "            page_num = 0\n",
    "        # 해당 국가의 key-value가 있을 경우. DONE이든 NOT DONE이든 (해당 국가 페이지 방문한 적 있음)\n",
    "        else: \n",
    "            page_num = dict_status[country_name][\"latest_page\"]\n",
    "            \n",
    "        # 해당 국가의 value의 status key가 'NOT DONE'일 경우(해당 국가 페이지 쭉 방문해야함.)    \n",
    "        if dict_status[country_name][\"status\"] != 'DONE':   \n",
    "            \n",
    "            while True:\n",
    "                driver.get(f'{country_path}?page={page_num}') #f string 사용!\n",
    "                division = driver.find_element_by_xpath(XPATH_COUNTRY_TABLE)\n",
    "                name_list = division.find_elements_by_tag_name('li') # List형\n",
    "                image_url_list = division.find_elements_by_tag_name('img') # 이미지 URL\n",
    "                \n",
    "                if len(image_url_list) == 0:\n",
    "                    break\n",
    "                \n",
    "                img_folder_path = './brands_of_the_world/' + country_name + '_company_logo/'    \n",
    "                os.makedirs(img_folder_path, exist_ok=True)\n",
    "                \n",
    "                for i, image_url in enumerate(image_url_list):\n",
    "                    try:\n",
    "                        with urllib.request.urlopen(image_url.get_attribute('src')) as f:\n",
    "                            with open(img_folder_path + name_list[i].text +'.jpg','wb') as h:\n",
    "                                image = f.read()\n",
    "                                h.write(image)\n",
    "                    except Exception as e:\n",
    "                        print(e)\n",
    "                        \n",
    "                print(f\"{country_name}의 {page_num}번째 page 이미지 저장 완료\")\n",
    "                dict_status[country_name][\"latest_page\"] +=1\n",
    "                page_num +=1\n",
    "                    \n",
    "            dict_status[country_name][\"status\"] = 'DONE'\n",
    "            with open(\"brands_of_the_world.json\", \"w\") as upload_file:\n",
    "                    json.dump(dict_status, upload_file)\n",
    "            pprint(dict_status)\n",
    "            print(f'{idx}번째 나라 {country_name}의 모든 이미지 저장 완료')\n",
    "            print('+-----------------------------------------------------------------+')\n",
    "         \n",
    "except Exception as e:\n",
    "    print(e)\n",
    "except KeyboardInterrupt:\n",
    "    print(\"[KeyboardInterrupt] 현재까지의 status :\")\n",
    "    with open(\"brands_of_the_world.json\", \"w\") as upload_file:\n",
    "                    json.dump(dict_status, upload_file)\n",
    "    pprint(dict_status)\n",
    "    print(\"\\n\")\n",
    "except:\n",
    "    print('Other error')"
   ]
  },
  {
   "cell_type": "code",
   "execution_count": null,
   "id": "bfd49795",
   "metadata": {},
   "outputs": [],
   "source": []
  }
 ],
 "metadata": {
  "kernelspec": {
   "display_name": "Python 3",
   "language": "python",
   "name": "python3"
  },
  "language_info": {
   "codemirror_mode": {
    "name": "ipython",
    "version": 3
   },
   "file_extension": ".py",
   "mimetype": "text/x-python",
   "name": "python",
   "nbconvert_exporter": "python",
   "pygments_lexer": "ipython3",
   "version": "3.8.5"
  }
 },
 "nbformat": 4,
 "nbformat_minor": 5
}
