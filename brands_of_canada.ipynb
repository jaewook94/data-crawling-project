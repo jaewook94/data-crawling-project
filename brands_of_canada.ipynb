{
 "cells": [
  {
   "cell_type": "code",
   "execution_count": 1,
   "id": "214fe7bb",
   "metadata": {},
   "outputs": [],
   "source": [
    "from selenium import webdriver\n",
    "from selenium.webdriver.common.keys import Keys\n",
    "import time\n",
    "import pyperclip\n",
    "import urllib.request\n",
    "import numpy as np\n",
    "import matplotlib.pyplot as plt\n",
    "import pandas as pd\n",
    "import os\n",
    "from pprint import pprint"
   ]
  },
  {
   "cell_type": "code",
   "execution_count": 36,
   "id": "17f4a2da",
   "metadata": {},
   "outputs": [],
   "source": [
    "path = r'C:\\Users\\재욱\\Downloads\\chromedriver.exe'\n",
    "driver = webdriver.Chrome(path)\n",
    "search_url = \"https://www.brandsoftheworld.com/logos/countries/ca\" # 캐나다\n",
    "driver.get(search_url)"
   ]
  },
  {
   "cell_type": "code",
   "execution_count": null,
   "id": "ab828b5a",
   "metadata": {},
   "outputs": [],
   "source": []
  },
  {
   "cell_type": "code",
   "execution_count": 40,
   "id": "cc4bd881",
   "metadata": {},
   "outputs": [],
   "source": [
    "xpath = '//*[@id=\"primaryInner\"]/div/div[1]'\n",
    "division = driver.find_element_by_xpath(xpath)\n",
    "name_list = division.find_elements_by_tag_name('li') # List형\n",
    "image_url_list = division.find_elements_by_tag_name('img') # List형"
   ]
  },
  {
   "cell_type": "code",
   "execution_count": 48,
   "id": "d9175d14",
   "metadata": {},
   "outputs": [
    {
     "name": "stdout",
     "output_type": "stream",
     "text": [
      "['Dicom',\n",
      " 'Window Mart',\n",
      " 'Gm Logo',\n",
      " 'Century 21 Seal',\n",
      " 'Sun County Panthers',\n",
      " 'Online Casino Canada',\n",
      " 'crane immigration',\n",
      " 'B.A.D. to the Bone',\n",
      " 'Voyager Digital',\n",
      " 'EXFO',\n",
      " 'RATESDOTCA',\n",
      " 'Trailtech',\n",
      " 'ViB Digital',\n",
      " 'VANCOUVER 2030 OLYMPIC BID LOGO',\n",
      " 'Clique',\n",
      " 'A2Z Pest Control Ottawa',\n",
      " 'NTV-Canada',\n",
      " 'Beijing 2022 Olympic Logo',\n",
      " 'OLD MILWAUKEE BEER',\n",
      " 'Ferris',\n",
      " 'IWEG',\n",
      " 'Las Vegas Raiders',\n",
      " 'Glow Day Spa',\n",
      " 'Collège Montmorency',\n",
      " 'Criterion Instruments',\n",
      " 'Eva.coop',\n",
      " 'Eva.coop',\n",
      " 'ABOMIS Innovations Inc.',\n",
      " 'Amanda Lira - Nutricionist',\n",
      " 'City of Ottawa',\n",
      " 'Tourism Saskatchewan',\n",
      " 'EllisDon',\n",
      " '1',\n",
      " '2',\n",
      " '3',\n",
      " '4',\n",
      " '5',\n",
      " '6',\n",
      " '7',\n",
      " '8',\n",
      " '9',\n",
      " '…',\n",
      " 'next ›',\n",
      " 'last »']\n"
     ]
    }
   ],
   "source": [
    "company_name_list = []\n",
    "for name in name_list:\n",
    "    company_name_list.append(name.text)\n",
    "pprint(company_name_list)"
   ]
  },
  {
   "cell_type": "code",
   "execution_count": 44,
   "id": "390453f4",
   "metadata": {},
   "outputs": [
    {
     "name": "stdout",
     "output_type": "stream",
     "text": [
      "Canada\n"
     ]
    }
   ],
   "source": [
    "xpath_country_name = '//*[@id=\"primary\"]/h1/span'\n",
    "division_country_name = driver.find_element_by_xpath(xpath_country_name)\n",
    "print(division_country_name.text)"
   ]
  },
  {
   "cell_type": "code",
   "execution_count": 49,
   "id": "f307b917",
   "metadata": {},
   "outputs": [],
   "source": [
    "i = 0\n",
    "img_folder_path = './' + division_country_name.text + '_company_logo/'\n",
    "os.makedirs(img_folder_path, exist_ok=True)\n",
    "for image_url in image_url_list:\n",
    "    try:\n",
    "        with urllib.request.urlopen(image_url.get_attribute('src')) as f:\n",
    "            with open(img_folder_path + company_name_list[i] +'.jpg','wb') as h:\n",
    "                image = f.read()\n",
    "                h.write(image)\n",
    "    except Exception as e:\n",
    "        print(e)\n",
    "    i+=1"
   ]
  },
  {
   "cell_type": "code",
   "execution_count": 51,
   "id": "8daba342",
   "metadata": {},
   "outputs": [
    {
     "data": {
      "text/plain": [
       "44"
      ]
     },
     "execution_count": 51,
     "metadata": {},
     "output_type": "execute_result"
    }
   ],
   "source": [
    "len(company_name_list)"
   ]
  }
 ],
 "metadata": {
  "kernelspec": {
   "display_name": "Python 3",
   "language": "python",
   "name": "python3"
  },
  "language_info": {
   "codemirror_mode": {
    "name": "ipython",
    "version": 3
   },
   "file_extension": ".py",
   "mimetype": "text/x-python",
   "name": "python",
   "nbconvert_exporter": "python",
   "pygments_lexer": "ipython3",
   "version": "3.8.5"
  }
 },
 "nbformat": 4,
 "nbformat_minor": 5
}
