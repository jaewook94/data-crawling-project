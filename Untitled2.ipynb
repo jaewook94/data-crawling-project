{
 "cells": [
  {
   "cell_type": "code",
   "execution_count": 47,
   "id": "039ead44",
   "metadata": {},
   "outputs": [],
   "source": [
    "import urllib\n",
    "import urllib.request\n",
    "from urllib.request import urlopen\n",
    "import selenium \n",
    "from selenium import webdriver\n",
    "import bs4\n",
    "from bs4 import BeautifulSoup\n",
    "import time\n",
    "from datetime import datetime\n",
    "import pandas as pd\n",
    "import os\n",
    "\n",
    "#새로 추가 Action Chains \n",
    "from selenium.webdriver.common.action_chains import ActionChains"
   ]
  },
  {
   "cell_type": "code",
   "execution_count": 48,
   "id": "6e45de9c",
   "metadata": {},
   "outputs": [],
   "source": [
    "link = 'https://www.google.com/maps/place/%EC%8A%A4%ED%83%80%EB%B2%85%EC%8A%A4+%EB%8D%94%EC%A2%85%EB%A1%9CR%EC%A0%90/@37.537104,126.7809418,11z/data=!4m11!1m2!2m1!1z7ISc7Jq4IOyKpO2DgOuyheyKpA!3m7!1s0x357ca2e91d47728f:0x7a8a48d7f1a3e119!8m2!3d37.5707075!4d126.9835766!9m1!1b1!15sChPshJzsmrgg7Iqk7YOA67KF7IqkIgOIAQFaFiIU7ISc7Jq4IOyKpO2DgCDrsoXsiqSSAQtjb2ZmZWVfc2hvcA?hl=ko'\n",
    "path = r'C:\\Users\\재욱\\Downloads\\chromedriver.exe'\n",
    "driver = webdriver.Chrome(path)\n",
    "driver.get(link)                 # 자동으로 해당 링크를 연다\n",
    "os.makedirs('result', exist_ok = True)   # 결과 저장 디렉토리"
   ]
  },
  {
   "cell_type": "code",
   "execution_count": 58,
   "id": "a474d63d",
   "metadata": {},
   "outputs": [
    {
     "name": "stdout",
     "output_type": "stream",
     "text": [
      "888\n"
     ]
    }
   ],
   "source": [
    "last_height = driver.execute_script(\"return document.body.scrollHeight\")\n",
    "\n",
    "print(last_height)"
   ]
  },
  {
   "cell_type": "code",
   "execution_count": 66,
   "id": "fde50865",
   "metadata": {},
   "outputs": [],
   "source": [
    "SCROLL_PAUSE_SEC = 2\n",
    "\n",
    "# 스크롤 높이 가져옴\n",
    "last_height = driver.execute_script(\"return document.body.scrollHeight\")\n",
    "while True:\n",
    "    # 끝까지 스크롤 다운\n",
    "    reviews_divs[0].click()\n",
    "    driver.execute_script(\"window.scrollTo(0, document.body.scrollHeight);\")\n",
    "\n",
    "    time.sleep(SCROLL_PAUSE_SEC)\n",
    "\n",
    "    # 스크롤 다운 후 스크롤 높이 다시 가져옴\n",
    "    new_height = driver.execute_script(\"return document.body.scrollHeight\")\n",
    "    if new_height == last_height:\n",
    "        break\n",
    "    last_height = new_height"
   ]
  },
  {
   "cell_type": "code",
   "execution_count": 95,
   "id": "bfd0fa9b",
   "metadata": {
    "scrolled": false
   },
   "outputs": [],
   "source": [
    "link = 'https://www.google.com/maps/place/%EC%8A%A4%ED%83%80%EB%B2%85%EC%8A%A4+%EB%8D%94%EC%A2%85%EB%A1%9CR%EC%A0%90/@37.537104,126.7809418,11z/data=!4m11!1m2!2m1!1z7ISc7Jq4IOyKpO2DgOuyheyKpA!3m7!1s0x357ca2e91d47728f:0x7a8a48d7f1a3e119!8m2!3d37.5707075!4d126.9835766!9m1!1b1!15sChPshJzsmrgg7Iqk7YOA67KF7IqkIgOIAQFaFiIU7ISc7Jq4IOyKpO2DgCDrsoXsiqSSAQtjb2ZmZWVfc2hvcA?hl=ko'\n",
    "path = r'C:\\Users\\재욱\\Downloads\\chromedriver.exe'\n",
    "driver = webdriver.Chrome(path)\n",
    "\n",
    "driver.get(link)\n",
    "time.sleep(2)\n",
    "doScrollDown(3)\n",
    "# xpath = '//*[@id=\"pane\"]/div/div[1]/div/div/div[2]'\n",
    "# reviews_divs = driver.find_elements_by_xpath(xpath)\n",
    "# reviews_divs[0].click()\n",
    "# some_tag = driver.find_element_by_id('pane')\n",
    "# time.sleep(2)\n",
    "# action = ActionChains(driver)\n",
    "# action.move_to_element(some_tag).perform()\n",
    "# driver.execute_script(\"window.scrollTo(0, 888);\")"
   ]
  },
  {
   "cell_type": "code",
   "execution_count": 87,
   "id": "99b5775b",
   "metadata": {
    "scrolled": true
   },
   "outputs": [
    {
     "data": {
      "text/plain": [
       "<selenium.webdriver.remote.webelement.WebElement (session=\"cd4eba63e854b2a2743121e68e9f1039\", element=\"d2ec1575-cc9b-4883-bea7-3eee86dc7a23\")>"
      ]
     },
     "execution_count": 87,
     "metadata": {},
     "output_type": "execute_result"
    }
   ],
   "source": [
    "driver.find_element_by_id('pane')"
   ]
  },
  {
   "cell_type": "code",
   "execution_count": 89,
   "id": "8b182d55",
   "metadata": {},
   "outputs": [],
   "source": [
    "action = ActionChains(driver)\n",
    "action.move_to_element(some_tag).perform()"
   ]
  },
  {
   "cell_type": "code",
   "execution_count": 77,
   "id": "10eb5701",
   "metadata": {},
   "outputs": [
    {
     "data": {
      "text/plain": [
       "[]"
      ]
     },
     "execution_count": 77,
     "metadata": {},
     "output_type": "execute_result"
    }
   ],
   "source": [
    "driver.execute_script(\"window.scrollTo(0, 888);\")"
   ]
  },
  {
   "cell_type": "code",
   "execution_count": 62,
   "id": "58ec1ebd",
   "metadata": {},
   "outputs": [],
   "source": [
    "xpath = '//*[@id=\"pane\"]/div/div[1]/div/div'"
   ]
  },
  {
   "cell_type": "code",
   "execution_count": 63,
   "id": "547a12ef",
   "metadata": {},
   "outputs": [],
   "source": [
    "reviews_divs = driver.find_elements_by_xpath(xpath)"
   ]
  },
  {
   "cell_type": "code",
   "execution_count": 64,
   "id": "6340b470",
   "metadata": {},
   "outputs": [],
   "source": [
    "reviews_divs[0].click()"
   ]
  },
  {
   "cell_type": "code",
   "execution_count": null,
   "id": "038bc550",
   "metadata": {},
   "outputs": [],
   "source": [
    "//*[@id=\"pane\"]/div/div[1]/div/div/div[2]"
   ]
  },
  {
   "cell_type": "code",
   "execution_count": null,
   "id": "fa01a1fe",
   "metadata": {},
   "outputs": [],
   "source": [
    "<div jstcache=\"430\" role=\"presentation\" class=\"aopO7e-divider\" jsan=\"t-h6_M4FDMGww,7.aopO7e-divider,5.height,0.role\" style=\"height: 16px;\"></div>"
   ]
  },
  {
   "cell_type": "code",
   "execution_count": 93,
   "id": "2771fcd5",
   "metadata": {},
   "outputs": [],
   "source": [
    "import datetime\n",
    "def doScrollDown(whileSeconds):\n",
    "    start = datetime.datetime.now()\n",
    "    end = start + datetime.timedelta(seconds=whileSeconds)\n",
    "    while True:\n",
    "        driver.execute_script('window.scrollTo(0, document.body.scrollHeight);')\n",
    "        time.sleep(1)\n",
    "        if datetime.datetime.now() > end:\n",
    "            break"
   ]
  },
  {
   "cell_type": "code",
   "execution_count": 94,
   "id": "738315b0",
   "metadata": {},
   "outputs": [],
   "source": [
    "doScrollDown(3)"
   ]
  },
  {
   "cell_type": "code",
   "execution_count": null,
   "id": "57d9fa75",
   "metadata": {},
   "outputs": [],
   "source": []
  }
 ],
 "metadata": {
  "kernelspec": {
   "display_name": "Python 3",
   "language": "python",
   "name": "python3"
  },
  "language_info": {
   "codemirror_mode": {
    "name": "ipython",
    "version": 3
   },
   "file_extension": ".py",
   "mimetype": "text/x-python",
   "name": "python",
   "nbconvert_exporter": "python",
   "pygments_lexer": "ipython3",
   "version": "3.8.5"
  }
 },
 "nbformat": 4,
 "nbformat_minor": 5
}
