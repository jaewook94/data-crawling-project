{
 "cells": [
  {
   "cell_type": "code",
   "execution_count": 47,
   "id": "875a0706",
   "metadata": {},
   "outputs": [],
   "source": [
    "import urllib\n",
    "import urllib.request\n",
    "from urllib.request import urlopen\n",
    "import selenium \n",
    "from selenium import webdriver\n",
    "import bs4\n",
    "from bs4 import BeautifulSoup\n",
    "import time\n",
    "from datetime import datetime\n",
    "import pandas as pd\n",
    "import os\n",
    "\n",
    "#새로 추가 Action Chains \n",
    "from selenium.webdriver.common.action_chains import ActionChains"
   ]
  },
  {
   "cell_type": "code",
   "execution_count": 48,
   "id": "f3f86d4d",
   "metadata": {},
   "outputs": [],
   "source": [
    "link = 'https://www.google.com/maps/place/%EC%8A%A4%ED%83%80%EB%B2%85%EC%8A%A4+%EB%8D%94%EC%A2%85%EB%A1%9CR%EC%A0%90/@37.537104,126.7809418,11z/data=!4m11!1m2!2m1!1z7ISc7Jq4IOyKpO2DgOuyheyKpA!3m7!1s0x357ca2e91d47728f:0x7a8a48d7f1a3e119!8m2!3d37.5707075!4d126.9835766!9m1!1b1!15sChPshJzsmrgg7Iqk7YOA67KF7IqkIgOIAQFaFiIU7ISc7Jq4IOyKpO2DgCDrsoXsiqSSAQtjb2ZmZWVfc2hvcA?hl=ko'\n",
    "path = r'C:\\Users\\재욱\\Downloads\\chromedriver.exe'\n",
    "driver = webdriver.Chrome(path)\n",
    "driver.get(link)                 # 자동으로 해당 링크를 연다\n",
    "os.makedirs('result', exist_ok = True)   # 결과 저장 디렉토리"
   ]
  },
  {
   "cell_type": "code",
   "execution_count": 58,
   "id": "6b5c3e04",
   "metadata": {},
   "outputs": [
    {
     "name": "stdout",
     "output_type": "stream",
     "text": [
      "888\n"
     ]
    }
   ],
   "source": [
    "last_height = driver.execute_script(\"return document.body.scrollHeight\")\n",
    "\n",
    "print(last_height)"
   ]
  },
  {
   "cell_type": "code",
   "execution_count": 66,
   "id": "3b4857b5",
   "metadata": {},
   "outputs": [],
   "source": [
    "SCROLL_PAUSE_SEC = 2\n",
    "\n",
    "# 스크롤 높이 가져옴\n",
    "last_height = driver.execute_script(\"return document.body.scrollHeight\")\n",
    "while True:\n",
    "    # 끝까지 스크롤 다운\n",
    "    reviews_divs[0].click()\n",
    "    driver.execute_script(\"window.scrollTo(0, document.body.scrollHeight);\")\n",
    "\n",
    "    time.sleep(SCROLL_PAUSE_SEC)\n",
    "\n",
    "    # 스크롤 다운 후 스크롤 높이 다시 가져옴\n",
    "    new_height = driver.execute_script(\"return document.body.scrollHeight\")\n",
    "    if new_height == last_height:\n",
    "        break\n",
    "    last_height = new_height"
   ]
  },
  {
   "cell_type": "code",
   "execution_count": 83,
   "id": "01aae421",
   "metadata": {
    "scrolled": true
   },
   "outputs": [],
   "source": [
    "link = 'https://www.google.com/maps/place/%EC%8A%A4%ED%83%80%EB%B2%85%EC%8A%A4+%EB%8D%94%EC%A2%85%EB%A1%9CR%EC%A0%90/@37.537104,126.7809418,11z/data=!4m11!1m2!2m1!1z7ISc7Jq4IOyKpO2DgOuyheyKpA!3m7!1s0x357ca2e91d47728f:0x7a8a48d7f1a3e119!8m2!3d37.5707075!4d126.9835766!9m1!1b1!15sChPshJzsmrgg7Iqk7YOA67KF7IqkIgOIAQFaFiIU7ISc7Jq4IOyKpO2DgCDrsoXsiqSSAQtjb2ZmZWVfc2hvcA?hl=ko'\n",
    "path = r'C:\\Users\\재욱\\Downloads\\chromedriver.exe'\n",
    "driver = webdriver.Chrome(path)\n",
    "\n",
    "driver.get(link)\n",
    "time.sleep(2)\n",
    "\n",
    "# xpath = '//*[@id=\"pane\"]/div/div[1]/div/div/div[2]'\n",
    "# reviews_divs = driver.find_elements_by_xpath(xpath)\n",
    "# reviews_divs[0].click()\n",
    "driver.find_element_by_id('pane').click()\n",
    "time.sleep(2)\n",
    "driver.execute_script(\"window.scrollTo(0, 888);\")"
   ]
  },
  {
   "cell_type": "code",
   "execution_count": 77,
   "id": "e5b1a1da",
   "metadata": {},
   "outputs": [
    {
     "data": {
      "text/plain": [
       "[]"
      ]
     },
     "execution_count": 77,
     "metadata": {},
     "output_type": "execute_result"
    }
   ],
   "source": [
    "driver.execute_script(\"window.scrollTo(0, 888);\")"
   ]
  },
  {
   "cell_type": "code",
   "execution_count": 62,
   "id": "0ba253a3",
   "metadata": {},
   "outputs": [],
   "source": [
    "xpath = '//*[@id=\"pane\"]/div/div[1]/div/div'"
   ]
  },
  {
   "cell_type": "code",
   "execution_count": 63,
   "id": "c9926d4b",
   "metadata": {},
   "outputs": [],
   "source": [
    "reviews_divs = driver.find_elements_by_xpath(xpath)"
   ]
  },
  {
   "cell_type": "code",
   "execution_count": 64,
   "id": "26e8dd5e",
   "metadata": {},
   "outputs": [],
   "source": [
    "reviews_divs[0].click()"
   ]
  },
  {
   "cell_type": "code",
   "execution_count": null,
   "id": "a2901801",
   "metadata": {},
   "outputs": [],
   "source": [
    "//*[@id=\"pane\"]/div/div[1]/div/div/div[2]"
   ]
  }
 ],
 "metadata": {
  "kernelspec": {
   "display_name": "Python 3",
   "language": "python",
   "name": "python3"
  },
  "language_info": {
   "codemirror_mode": {
    "name": "ipython",
    "version": 3
   },
   "file_extension": ".py",
   "mimetype": "text/x-python",
   "name": "python",
   "nbconvert_exporter": "python",
   "pygments_lexer": "ipython3",
   "version": "3.8.5"
  }
 },
 "nbformat": 4,
 "nbformat_minor": 5
}
